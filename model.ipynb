{
 "cells": [
  {
   "cell_type": "markdown",
   "id": "d7f9b534",
   "metadata": {},
   "source": [
    "## Using the titanic data, in your classification-exercises repository, create a notebook, model.ipynb where you will do the following:"
   ]
  },
  {
   "cell_type": "code",
   "execution_count": 118,
   "id": "650d89f4",
   "metadata": {},
   "outputs": [],
   "source": [
    "import warnings\n",
    "warnings.filterwarnings(\"ignore\")\n",
    "\n",
    "import numpy as np\n",
    "import pandas as pd\n",
    "from pydataset import data\n",
    "import os\n",
    "import math\n",
    "from scipy import stats\n",
    "from sklearn.model_selection import train_test_split\n",
    "from sklearn.tree import DecisionTreeClassifier, plot_tree\n",
    "from sklearn.metrics import classification_report\n",
    "from sklearn.metrics import confusion_matrix\n",
    "from sklearn.metrics import accuracy_score\n",
    "from sklearn.metrics import precision_score\n",
    "from sklearn.metrics import recall_score\n",
    "from sklearn.ensemble import RandomForestClassifier\n",
    "\n",
    "import matplotlib.pyplot as plt\n",
    "import seaborn as sns\n",
    "\n",
    "import acquire\n",
    "import prepare"
   ]
  },
  {
   "cell_type": "code",
   "execution_count": 130,
   "id": "dc6f7763",
   "metadata": {},
   "outputs": [],
   "source": [
    "titanic_df = acquire.get_titanic_data()\n",
    "def prep_titanic(titanic_df):\n",
    "    titanic_df = titanic_df.drop_duplicates()\n",
    "    titanic_df['embark_town'] = titanic_df.embark_town.fillna(value='Southampton')\n",
    "    dummy_titanic_df = pd.get_dummies(titanic_df[['sex','embark_town']], dummy_na=False, drop_first=[True, True])\n",
    "    titanic_df = pd.concat([titanic_df, dummy_titanic_df], axis=1)\n",
    "    cols_to_drop = ['deck', 'embarked', 'class', 'age', 'sex', 'embark_town']\n",
    "    titanic_df = titanic_df.drop(columns=cols_to_drop)\n",
    "    return titanic_df\n",
    "def split_data_titanic(titanic_df):\n",
    "    train_titanic, test_titanic = train_test_split(titanic_df, test_size=.2, random_state=123, stratify=titanic_df.survived)\n",
    "    train_titanic, validate_titanic = train_test_split(train_titanic, test_size=.25, random_state=123, stratify=train_titanic.survived)\n",
    "    return train_titanic, validate_titanic, test_titanic\n"
   ]
  },
  {
   "cell_type": "code",
   "execution_count": 131,
   "id": "2fb9d84d",
   "metadata": {},
   "outputs": [],
   "source": [
    "titanic_df = prep_titanic(titanic_df)"
   ]
  },
  {
   "cell_type": "code",
   "execution_count": 132,
   "id": "85c46a18",
   "metadata": {},
   "outputs": [
    {
     "data": {
      "text/html": [
       "<div>\n",
       "<style scoped>\n",
       "    .dataframe tbody tr th:only-of-type {\n",
       "        vertical-align: middle;\n",
       "    }\n",
       "\n",
       "    .dataframe tbody tr th {\n",
       "        vertical-align: top;\n",
       "    }\n",
       "\n",
       "    .dataframe thead th {\n",
       "        text-align: right;\n",
       "    }\n",
       "</style>\n",
       "<table border=\"1\" class=\"dataframe\">\n",
       "  <thead>\n",
       "    <tr style=\"text-align: right;\">\n",
       "      <th></th>\n",
       "      <th>passenger_id</th>\n",
       "      <th>survived</th>\n",
       "      <th>pclass</th>\n",
       "      <th>sibsp</th>\n",
       "      <th>parch</th>\n",
       "      <th>fare</th>\n",
       "      <th>alone</th>\n",
       "      <th>sex_male</th>\n",
       "      <th>embark_town_Queenstown</th>\n",
       "      <th>embark_town_Southampton</th>\n",
       "      <th>baseline</th>\n",
       "    </tr>\n",
       "  </thead>\n",
       "  <tbody>\n",
       "    <tr>\n",
       "      <th>0</th>\n",
       "      <td>0</td>\n",
       "      <td>0</td>\n",
       "      <td>3</td>\n",
       "      <td>1</td>\n",
       "      <td>0</td>\n",
       "      <td>7.2500</td>\n",
       "      <td>0</td>\n",
       "      <td>1</td>\n",
       "      <td>0</td>\n",
       "      <td>1</td>\n",
       "      <td>0</td>\n",
       "    </tr>\n",
       "    <tr>\n",
       "      <th>1</th>\n",
       "      <td>1</td>\n",
       "      <td>1</td>\n",
       "      <td>1</td>\n",
       "      <td>1</td>\n",
       "      <td>0</td>\n",
       "      <td>71.2833</td>\n",
       "      <td>0</td>\n",
       "      <td>0</td>\n",
       "      <td>0</td>\n",
       "      <td>0</td>\n",
       "      <td>0</td>\n",
       "    </tr>\n",
       "    <tr>\n",
       "      <th>2</th>\n",
       "      <td>2</td>\n",
       "      <td>1</td>\n",
       "      <td>3</td>\n",
       "      <td>0</td>\n",
       "      <td>0</td>\n",
       "      <td>7.9250</td>\n",
       "      <td>1</td>\n",
       "      <td>0</td>\n",
       "      <td>0</td>\n",
       "      <td>1</td>\n",
       "      <td>0</td>\n",
       "    </tr>\n",
       "    <tr>\n",
       "      <th>3</th>\n",
       "      <td>3</td>\n",
       "      <td>1</td>\n",
       "      <td>1</td>\n",
       "      <td>1</td>\n",
       "      <td>0</td>\n",
       "      <td>53.1000</td>\n",
       "      <td>0</td>\n",
       "      <td>0</td>\n",
       "      <td>0</td>\n",
       "      <td>1</td>\n",
       "      <td>0</td>\n",
       "    </tr>\n",
       "    <tr>\n",
       "      <th>4</th>\n",
       "      <td>4</td>\n",
       "      <td>0</td>\n",
       "      <td>3</td>\n",
       "      <td>0</td>\n",
       "      <td>0</td>\n",
       "      <td>8.0500</td>\n",
       "      <td>1</td>\n",
       "      <td>1</td>\n",
       "      <td>0</td>\n",
       "      <td>1</td>\n",
       "      <td>0</td>\n",
       "    </tr>\n",
       "    <tr>\n",
       "      <th>...</th>\n",
       "      <td>...</td>\n",
       "      <td>...</td>\n",
       "      <td>...</td>\n",
       "      <td>...</td>\n",
       "      <td>...</td>\n",
       "      <td>...</td>\n",
       "      <td>...</td>\n",
       "      <td>...</td>\n",
       "      <td>...</td>\n",
       "      <td>...</td>\n",
       "      <td>...</td>\n",
       "    </tr>\n",
       "    <tr>\n",
       "      <th>886</th>\n",
       "      <td>886</td>\n",
       "      <td>0</td>\n",
       "      <td>2</td>\n",
       "      <td>0</td>\n",
       "      <td>0</td>\n",
       "      <td>13.0000</td>\n",
       "      <td>1</td>\n",
       "      <td>1</td>\n",
       "      <td>0</td>\n",
       "      <td>1</td>\n",
       "      <td>0</td>\n",
       "    </tr>\n",
       "    <tr>\n",
       "      <th>887</th>\n",
       "      <td>887</td>\n",
       "      <td>1</td>\n",
       "      <td>1</td>\n",
       "      <td>0</td>\n",
       "      <td>0</td>\n",
       "      <td>30.0000</td>\n",
       "      <td>1</td>\n",
       "      <td>0</td>\n",
       "      <td>0</td>\n",
       "      <td>1</td>\n",
       "      <td>0</td>\n",
       "    </tr>\n",
       "    <tr>\n",
       "      <th>888</th>\n",
       "      <td>888</td>\n",
       "      <td>0</td>\n",
       "      <td>3</td>\n",
       "      <td>1</td>\n",
       "      <td>2</td>\n",
       "      <td>23.4500</td>\n",
       "      <td>0</td>\n",
       "      <td>0</td>\n",
       "      <td>0</td>\n",
       "      <td>1</td>\n",
       "      <td>0</td>\n",
       "    </tr>\n",
       "    <tr>\n",
       "      <th>889</th>\n",
       "      <td>889</td>\n",
       "      <td>1</td>\n",
       "      <td>1</td>\n",
       "      <td>0</td>\n",
       "      <td>0</td>\n",
       "      <td>30.0000</td>\n",
       "      <td>1</td>\n",
       "      <td>1</td>\n",
       "      <td>0</td>\n",
       "      <td>0</td>\n",
       "      <td>0</td>\n",
       "    </tr>\n",
       "    <tr>\n",
       "      <th>890</th>\n",
       "      <td>890</td>\n",
       "      <td>0</td>\n",
       "      <td>3</td>\n",
       "      <td>0</td>\n",
       "      <td>0</td>\n",
       "      <td>7.7500</td>\n",
       "      <td>1</td>\n",
       "      <td>1</td>\n",
       "      <td>1</td>\n",
       "      <td>0</td>\n",
       "      <td>0</td>\n",
       "    </tr>\n",
       "  </tbody>\n",
       "</table>\n",
       "<p>891 rows × 11 columns</p>\n",
       "</div>"
      ],
      "text/plain": [
       "     passenger_id  survived  pclass  sibsp  parch     fare  alone  sex_male  \\\n",
       "0               0         0       3      1      0   7.2500      0         1   \n",
       "1               1         1       1      1      0  71.2833      0         0   \n",
       "2               2         1       3      0      0   7.9250      1         0   \n",
       "3               3         1       1      1      0  53.1000      0         0   \n",
       "4               4         0       3      0      0   8.0500      1         1   \n",
       "..            ...       ...     ...    ...    ...      ...    ...       ...   \n",
       "886           886         0       2      0      0  13.0000      1         1   \n",
       "887           887         1       1      0      0  30.0000      1         0   \n",
       "888           888         0       3      1      2  23.4500      0         0   \n",
       "889           889         1       1      0      0  30.0000      1         1   \n",
       "890           890         0       3      0      0   7.7500      1         1   \n",
       "\n",
       "     embark_town_Queenstown  embark_town_Southampton  baseline  \n",
       "0                         0                        1         0  \n",
       "1                         0                        0         0  \n",
       "2                         0                        1         0  \n",
       "3                         0                        1         0  \n",
       "4                         0                        1         0  \n",
       "..                      ...                      ...       ...  \n",
       "886                       0                        1         0  \n",
       "887                       0                        1         0  \n",
       "888                       0                        1         0  \n",
       "889                       0                        0         0  \n",
       "890                       1                        0         0  \n",
       "\n",
       "[891 rows x 11 columns]"
      ]
     },
     "execution_count": 132,
     "metadata": {},
     "output_type": "execute_result"
    }
   ],
   "source": [
    "titanic_df['baseline'] = 0\n",
    "titanic_df"
   ]
  },
  {
   "cell_type": "code",
   "execution_count": 133,
   "id": "d71d3abe",
   "metadata": {},
   "outputs": [],
   "source": [
    "train_titanic, validate_titanic, test_titanic = split_data_titanic(titanic_df)"
   ]
  },
  {
   "cell_type": "code",
   "execution_count": 134,
   "id": "64cc3877",
   "metadata": {
    "scrolled": true
   },
   "outputs": [
    {
     "data": {
      "text/html": [
       "<div>\n",
       "<style scoped>\n",
       "    .dataframe tbody tr th:only-of-type {\n",
       "        vertical-align: middle;\n",
       "    }\n",
       "\n",
       "    .dataframe tbody tr th {\n",
       "        vertical-align: top;\n",
       "    }\n",
       "\n",
       "    .dataframe thead th {\n",
       "        text-align: right;\n",
       "    }\n",
       "</style>\n",
       "<table border=\"1\" class=\"dataframe\">\n",
       "  <thead>\n",
       "    <tr style=\"text-align: right;\">\n",
       "      <th></th>\n",
       "      <th>passenger_id</th>\n",
       "      <th>survived</th>\n",
       "      <th>pclass</th>\n",
       "      <th>sibsp</th>\n",
       "      <th>parch</th>\n",
       "      <th>fare</th>\n",
       "      <th>alone</th>\n",
       "      <th>sex_male</th>\n",
       "      <th>embark_town_Queenstown</th>\n",
       "      <th>embark_town_Southampton</th>\n",
       "      <th>baseline</th>\n",
       "    </tr>\n",
       "  </thead>\n",
       "  <tbody>\n",
       "    <tr>\n",
       "      <th>455</th>\n",
       "      <td>455</td>\n",
       "      <td>1</td>\n",
       "      <td>3</td>\n",
       "      <td>0</td>\n",
       "      <td>0</td>\n",
       "      <td>7.8958</td>\n",
       "      <td>1</td>\n",
       "      <td>1</td>\n",
       "      <td>0</td>\n",
       "      <td>0</td>\n",
       "      <td>0</td>\n",
       "    </tr>\n",
       "    <tr>\n",
       "      <th>380</th>\n",
       "      <td>380</td>\n",
       "      <td>1</td>\n",
       "      <td>1</td>\n",
       "      <td>0</td>\n",
       "      <td>0</td>\n",
       "      <td>227.5250</td>\n",
       "      <td>1</td>\n",
       "      <td>0</td>\n",
       "      <td>0</td>\n",
       "      <td>0</td>\n",
       "      <td>0</td>\n",
       "    </tr>\n",
       "    <tr>\n",
       "      <th>492</th>\n",
       "      <td>492</td>\n",
       "      <td>0</td>\n",
       "      <td>1</td>\n",
       "      <td>0</td>\n",
       "      <td>0</td>\n",
       "      <td>30.5000</td>\n",
       "      <td>1</td>\n",
       "      <td>1</td>\n",
       "      <td>0</td>\n",
       "      <td>1</td>\n",
       "      <td>0</td>\n",
       "    </tr>\n",
       "    <tr>\n",
       "      <th>55</th>\n",
       "      <td>55</td>\n",
       "      <td>1</td>\n",
       "      <td>1</td>\n",
       "      <td>0</td>\n",
       "      <td>0</td>\n",
       "      <td>35.5000</td>\n",
       "      <td>1</td>\n",
       "      <td>1</td>\n",
       "      <td>0</td>\n",
       "      <td>1</td>\n",
       "      <td>0</td>\n",
       "    </tr>\n",
       "    <tr>\n",
       "      <th>243</th>\n",
       "      <td>243</td>\n",
       "      <td>0</td>\n",
       "      <td>3</td>\n",
       "      <td>0</td>\n",
       "      <td>0</td>\n",
       "      <td>7.1250</td>\n",
       "      <td>1</td>\n",
       "      <td>1</td>\n",
       "      <td>0</td>\n",
       "      <td>1</td>\n",
       "      <td>0</td>\n",
       "    </tr>\n",
       "  </tbody>\n",
       "</table>\n",
       "</div>"
      ],
      "text/plain": [
       "     passenger_id  survived  pclass  sibsp  parch      fare  alone  sex_male  \\\n",
       "455           455         1       3      0      0    7.8958      1         1   \n",
       "380           380         1       1      0      0  227.5250      1         0   \n",
       "492           492         0       1      0      0   30.5000      1         1   \n",
       "55             55         1       1      0      0   35.5000      1         1   \n",
       "243           243         0       3      0      0    7.1250      1         1   \n",
       "\n",
       "     embark_town_Queenstown  embark_town_Southampton  baseline  \n",
       "455                       0                        0         0  \n",
       "380                       0                        0         0  \n",
       "492                       0                        1         0  \n",
       "55                        0                        1         0  \n",
       "243                       0                        1         0  "
      ]
     },
     "execution_count": 134,
     "metadata": {},
     "output_type": "execute_result"
    }
   ],
   "source": [
    "train_titanic.head()"
   ]
  },
  {
   "cell_type": "code",
   "execution_count": 135,
   "id": "70f69186",
   "metadata": {},
   "outputs": [
    {
     "name": "stdout",
     "output_type": "stream",
     "text": [
      "Baseline Accuracy 0.6161048689138576\n"
     ]
    }
   ],
   "source": [
    "print('Baseline Accuracy', accuracy_score(train_titanic.survived, train_titanic.baseline))"
   ]
  },
  {
   "cell_type": "markdown",
   "id": "c69965ad",
   "metadata": {},
   "source": [
    "### Fit the decision tree classifier to your training sample and transform (i.e. make predictions on the training sample)"
   ]
  },
  {
   "cell_type": "code",
   "execution_count": 159,
   "id": "33d182d4",
   "metadata": {},
   "outputs": [],
   "source": [
    "X_cols = ['pclass', 'fare', 'parch', 'sex_male']"
   ]
  },
  {
   "cell_type": "code",
   "execution_count": 162,
   "id": "da662313",
   "metadata": {},
   "outputs": [],
   "source": [
    "x_train_titanic = train_titanic[X_cols]\n",
    "y_train_titanic = train_titanic.survived\n",
    "\n",
    "X_validate_titanic = validate_titanic[X_cols]\n",
    "y_validate_titanic = validate_titanic.survived\n",
    "\n",
    "X_test_titanic = test_titanic[X_cols]\n",
    "y_test_titanic = test_titanic.survived"
   ]
  },
  {
   "cell_type": "code",
   "execution_count": 163,
   "id": "7e818f08",
   "metadata": {},
   "outputs": [
    {
     "data": {
      "text/plain": [
       "passenger_id                 int64\n",
       "survived                     int64\n",
       "pclass                       int64\n",
       "sibsp                        int64\n",
       "parch                        int64\n",
       "fare                       float64\n",
       "alone                        int64\n",
       "sex_male                     uint8\n",
       "embark_town_Queenstown       uint8\n",
       "embark_town_Southampton      uint8\n",
       "baseline                     int64\n",
       "dtype: object"
      ]
     },
     "execution_count": 163,
     "metadata": {},
     "output_type": "execute_result"
    }
   ],
   "source": [
    "train_titanic.dtypes"
   ]
  },
  {
   "cell_type": "code",
   "execution_count": 164,
   "id": "3ee680c8",
   "metadata": {},
   "outputs": [],
   "source": [
    "model1 = DecisionTreeClassifier(max_depth=3, random_state=123)\n",
    "model1 = model1.fit(x_train_titanic, y_train_titanic)"
   ]
  },
  {
   "cell_type": "code",
   "execution_count": 165,
   "id": "485b9559",
   "metadata": {},
   "outputs": [
    {
     "data": {
      "text/plain": [
       "array([0, 1, 0, 0, 0])"
      ]
     },
     "execution_count": 165,
     "metadata": {},
     "output_type": "execute_result"
    }
   ],
   "source": [
    "y_pred = model1.predict(x_train_titanic)\n",
    "y_pred[0:5]"
   ]
  },
  {
   "cell_type": "code",
   "execution_count": 166,
   "id": "0a67eaea",
   "metadata": {
    "scrolled": true
   },
   "outputs": [
    {
     "data": {
      "text/plain": [
       "array([[0.89814815, 0.10185185],\n",
       "       [0.01785714, 0.98214286],\n",
       "       [0.69105691, 0.30894309],\n",
       "       [0.69105691, 0.30894309],\n",
       "       [0.89814815, 0.10185185]])"
      ]
     },
     "execution_count": 166,
     "metadata": {},
     "output_type": "execute_result"
    }
   ],
   "source": [
    "y_pred_proba = model1.predict_proba(x_train_titanic)\n",
    "y_pred_proba[0:5]"
   ]
  },
  {
   "cell_type": "code",
   "execution_count": 167,
   "id": "8c31ea52",
   "metadata": {
    "scrolled": true
   },
   "outputs": [
    {
     "name": "stdout",
     "output_type": "stream",
     "text": [
      "training score: 81.84%\n",
      "validate score: 79.21%\n"
     ]
    }
   ],
   "source": [
    "print(f'training score: {model1.score(x_train_titanic, y_train_titanic):.2%}')\n",
    "print(f'validate score: {model1.score(X_validate_titanic, y_validate_titanic):.2%}')"
   ]
  },
  {
   "cell_type": "code",
   "execution_count": 168,
   "id": "01bf6796",
   "metadata": {},
   "outputs": [
    {
     "data": {
      "image/png": "[encoded data removed]",
      "text/plain": [
       "<Figure size 1728x864 with 1 Axes>"
      ]
     },
     "metadata": {
      "needs_background": "light"
     },
     "output_type": "display_data"
    }
   ],
   "source": [
    "plt.figure(figsize=(24,12))\n",
    "plot_tree(model1, feature_names=x_train_titanic.columns.to_list(), class_names=['perished', 'survived']);"
   ]
  },
  {
   "cell_type": "markdown",
   "id": "054fc4ae",
   "metadata": {},
   "source": [
    "### Evaluate your in-sample results using the model score, confusion matrix, and classification report."
   ]
  },
  {
   "cell_type": "code",
   "execution_count": 169,
   "id": "f8d4acab",
   "metadata": {},
   "outputs": [
    {
     "name": "stdout",
     "output_type": "stream",
     "text": [
      "training score: 81.84%\n",
      "validate score: 79.21%\n"
     ]
    }
   ],
   "source": [
    "print(f'training score: {model1.score(x_train_titanic, y_train_titanic):.2%}')\n",
    "print(f'validate score: {model1.score(X_validate_titanic, y_validate_titanic):.2%}')"
   ]
  },
  {
   "cell_type": "code",
   "execution_count": 170,
   "id": "966d4b8b",
   "metadata": {},
   "outputs": [
    {
     "data": {
      "text/plain": [
       "array([[95, 15],\n",
       "       [22, 46]])"
      ]
     },
     "execution_count": 170,
     "metadata": {},
     "output_type": "execute_result"
    }
   ],
   "source": [
    "y_pred = model1.predict(X_validate_titanic)\n",
    "confusion_matrix(y_validate_titanic, y_pred)"
   ]
  },
  {
   "cell_type": "code",
   "execution_count": 171,
   "id": "e258c910",
   "metadata": {
    "scrolled": true
   },
   "outputs": [
    {
     "name": "stdout",
     "output_type": "stream",
     "text": [
      "              precision    recall  f1-score   support\n",
      "\n",
      "           0       0.81      0.86      0.84       110\n",
      "           1       0.75      0.68      0.71        68\n",
      "\n",
      "    accuracy                           0.79       178\n",
      "   macro avg       0.78      0.77      0.78       178\n",
      "weighted avg       0.79      0.79      0.79       178\n",
      "\n"
     ]
    }
   ],
   "source": [
    "print(classification_report(y_validate_titanic, y_pred))\n"
   ]
  },
  {
   "cell_type": "markdown",
   "id": "1ed50f8a",
   "metadata": {},
   "source": [
    "### Compute: Accuracy, true positive rate, false positive rate, true negative rate, false negative rate, precision, recall, f1-score, and support."
   ]
  },
  {
   "cell_type": "code",
   "execution_count": 172,
   "id": "cbca50c8",
   "metadata": {},
   "outputs": [
    {
     "name": "stdout",
     "output_type": "stream",
     "text": [
      "              precision    recall  f1-score   support\n",
      "\n",
      "           0       0.81      0.86      0.84       110\n",
      "           1       0.75      0.68      0.71        68\n",
      "\n",
      "    accuracy                           0.79       178\n",
      "   macro avg       0.78      0.77      0.78       178\n",
      "weighted avg       0.79      0.79      0.79       178\n",
      "\n"
     ]
    }
   ],
   "source": [
    "print(classification_report(y_validate_titanic, y_pred))\n"
   ]
  },
  {
   "cell_type": "code",
   "execution_count": 173,
   "id": "6264bb20",
   "metadata": {},
   "outputs": [
    {
     "data": {
      "text/plain": [
       "0.7921348314606742"
      ]
     },
     "execution_count": 173,
     "metadata": {},
     "output_type": "execute_result"
    }
   ],
   "source": [
    "accuracy_score(y_validate_titanic, y_pred)"
   ]
  },
  {
   "cell_type": "code",
   "execution_count": 174,
   "id": "aece9b1a",
   "metadata": {},
   "outputs": [
    {
     "data": {
      "text/plain": [
       "array([[95, 15],\n",
       "       [22, 46]])"
      ]
     },
     "execution_count": 174,
     "metadata": {},
     "output_type": "execute_result"
    }
   ],
   "source": [
    "confusion_matrix(y_validate_titanic, y_pred)"
   ]
  },
  {
   "cell_type": "code",
   "execution_count": 204,
   "id": "f21459ed",
   "metadata": {},
   "outputs": [],
   "source": [
    "TN = 95\n",
    "FP = 15\n",
    "FN = 22\n",
    "TP = 46"
   ]
  },
  {
   "cell_type": "code",
   "execution_count": 205,
   "id": "bf4ef5b4",
   "metadata": {},
   "outputs": [],
   "source": [
    "# Recall or true positive rate\n",
    "TPR = TP/(TP+FN)\n",
    "# Specificity or true negative rate\n",
    "TNR = TN/(TN+FP) \n",
    "# Negative predictive value\n",
    "NPV = TN/(TN+FN)\n",
    "# Fall out or false positive rate\n",
    "FPR = FP/(FP+TN)\n",
    "# False negative rate\n",
    "FNR = FN/(TP+FN)"
   ]
  },
  {
   "cell_type": "code",
   "execution_count": 206,
   "id": "29d8d663",
   "metadata": {},
   "outputs": [
    {
     "name": "stdout",
     "output_type": "stream",
     "text": [
      "TPR 0.68\n",
      "FPR 0.14\n",
      "TNR 0.86\n",
      "FNR 0.32\n"
     ]
    }
   ],
   "source": [
    "print('TPR', round(TPR, 2))\n",
    "print('FPR', round(FPR, 2))\n",
    "print('TNR', round(TNR, 2))\n",
    "print('FNR', round(FNR, 2))"
   ]
  },
  {
   "cell_type": "markdown",
   "id": "83e298f3",
   "metadata": {},
   "source": [
    "### Run through steps 2-4 using a different max_depth value.\n",
    "\n"
   ]
  },
  {
   "cell_type": "code",
   "execution_count": 178,
   "id": "a2afe859",
   "metadata": {},
   "outputs": [
    {
     "name": "stdout",
     "output_type": "stream",
     "text": [
      "training score: 91.57%\n",
      "validate score: 76.97%\n"
     ]
    },
    {
     "data": {
      "text/plain": [
       "array([[91, 19],\n",
       "       [22, 46]])"
      ]
     },
     "execution_count": 178,
     "metadata": {},
     "output_type": "execute_result"
    }
   ],
   "source": [
    "model2 = DecisionTreeClassifier(max_depth=10, random_state=123)\n",
    "model2 = model2.fit(x_train_titanic, y_train_titanic)\n",
    "y_pred = model2.predict(x_train_titanic)\n",
    "y_pred_proba = model2.predict_proba(x_train_titanic)\n",
    "print(f'training score: {model2.score(x_train_titanic, y_train_titanic):.2%}')\n",
    "print(f'validate score: {model2.score(X_validate_titanic, y_validate_titanic):.2%}')\n",
    "y_pred = model2.predict(X_validate_titanic)\n",
    "confusion_matrix(y_validate_titanic, y_pred)"
   ]
  },
  {
   "cell_type": "code",
   "execution_count": 179,
   "id": "1c7deddc",
   "metadata": {},
   "outputs": [
    {
     "data": {
      "image/png": "[encoded data removed]",
      "text/plain": [
       "<Figure size 1728x864 with 1 Axes>"
      ]
     },
     "metadata": {
      "needs_background": "light"
     },
     "output_type": "display_data"
    }
   ],
   "source": [
    "plt.figure(figsize=(24,12))\n",
    "plot_tree(model2, feature_names=x_train_titanic.columns.to_list(), class_names=['perished', 'survived']);"
   ]
  },
  {
   "cell_type": "code",
   "execution_count": 207,
   "id": "89e231a9",
   "metadata": {},
   "outputs": [],
   "source": [
    "TN = 91\n",
    "FP = 19\n",
    "FN = 22\n",
    "TP = 46\n",
    "# Recall or true positive rate\n",
    "TPR = TP/(TP+FN)\n",
    "# Specificity or true negative rate\n",
    "TNR = TN/(TN+FP) \n",
    "# Negative predictive value\n",
    "NPV = TN/(TN+FN)\n",
    "# Fall out or false positive rate\n",
    "FPR = FP/(FP+TN)\n",
    "# False negative rate\n",
    "FNR = FN/(TP+FN)"
   ]
  },
  {
   "cell_type": "code",
   "execution_count": 208,
   "id": "38999c66",
   "metadata": {},
   "outputs": [
    {
     "name": "stdout",
     "output_type": "stream",
     "text": [
      "TPR 0.68\n",
      "FPR 0.17\n",
      "TNR 0.83\n",
      "FNR 0.32\n"
     ]
    }
   ],
   "source": [
    "print('TPR', round(TPR, 2))\n",
    "print('FPR', round(FPR, 2))\n",
    "print('TNR', round(TNR, 2))\n",
    "print('FNR', round(FNR, 2))"
   ]
  },
  {
   "cell_type": "code",
   "execution_count": 182,
   "id": "e5a58f1e",
   "metadata": {},
   "outputs": [
    {
     "name": "stdout",
     "output_type": "stream",
     "text": [
      "model 1 training score: 81.84%\n",
      "model 1 validate score: 79.21%\n",
      "model 2 training score: 91.57%\n",
      "model 2 validate score: 76.97%\n"
     ]
    }
   ],
   "source": [
    "print(f'model 1 training score: {model1.score(x_train_titanic, y_train_titanic):.2%}')\n",
    "print(f'model 1 validate score: {model1.score(X_validate_titanic, y_validate_titanic):.2%}')\n",
    "print(f'model 2 training score: {model2.score(x_train_titanic, y_train_titanic):.2%}')\n",
    "print(f'model 2 validate score: {model2.score(X_validate_titanic, y_validate_titanic):.2%}')"
   ]
  },
  {
   "cell_type": "markdown",
   "id": "c752a160",
   "metadata": {},
   "source": [
    "- Model 1 performed better in the validate set\n",
    "- Model 2 performed better in the train set"
   ]
  },
  {
   "cell_type": "markdown",
   "id": "d2ef3ee0",
   "metadata": {},
   "source": [
    "## Work through these same exercises using the Telco dataset.\n"
   ]
  },
  {
   "cell_type": "code",
   "execution_count": 31,
   "id": "5043fb29",
   "metadata": {},
   "outputs": [],
   "source": [
    "telco_df = acquire.get_telco_data()\n",
    "def prep_telco(telco_df):\n",
    "    telco_df = telco_df.T.drop_duplicates().T\n",
    "    dummy_telco_df = pd.get_dummies(telco_df[['gender','contract_type','internet_service_type']], dummy_na=False, drop_first=[True, False, False])\n",
    "    telco_df = pd.concat([telco_df, dummy_telco_df], axis=1)\n",
    "    telco_df.senior_citizen = telco_df.senior_citizen.astype('int')\n",
    "    telco_df.tenure = telco_df.tenure.astype('int')\n",
    "    telco_df.monthly_charges = telco_df.monthly_charges.astype('float')\n",
    "    telco_df.partner = telco_df.partner.map(dict(Yes=1, No=0))\n",
    "    telco_df.dependents = telco_df.dependents.map(dict(Yes=1, No=0))\n",
    "    telco_df.phone_service = telco_df.phone_service.map(dict(Yes=1, No=0))\n",
    "    telco_df.paperless_billing = telco_df.paperless_billing.map(dict(Yes=1, No=0))\n",
    "    telco_df.churn = telco_df.churn.map(dict(Yes=1, No=0))\n",
    "    cols_to_drop = ['internet_service_type_id', 'contract_type_id', 'payment_type_id', 'gender']\n",
    "    telco_df = telco_df.drop(columns=cols_to_drop)\n",
    "    telco_df.total_charges = telco_df.total_charges.str.replace(' ', '0')\n",
    "    telco_df.total_charges = telco_df.total_charges.astype('float')\n",
    "    return telco_df\n",
    "def split_data_telco(telco_df):\n",
    "    train_telco, test_telco = train_test_split(telco_df, test_size=.2, random_state=123, stratify=telco_df.churn)\n",
    "    train_telco, validate_telco = train_test_split(train_telco, test_size=.25, random_state=123, stratify=train_telco.churn)\n",
    "    return train_telco, validate_telco, test_telco"
   ]
  },
  {
   "cell_type": "code",
   "execution_count": 32,
   "id": "28b9ad58",
   "metadata": {},
   "outputs": [],
   "source": [
    "telco_df = prep_telco(telco_df)"
   ]
  },
  {
   "cell_type": "code",
   "execution_count": 33,
   "id": "ab3863d9",
   "metadata": {},
   "outputs": [
    {
     "data": {
      "text/plain": [
       "0    5174\n",
       "1    1869\n",
       "Name: churn, dtype: int64"
      ]
     },
     "execution_count": 33,
     "metadata": {},
     "output_type": "execute_result"
    }
   ],
   "source": [
    "telco_df.churn.value_counts()"
   ]
  },
  {
   "cell_type": "code",
   "execution_count": 34,
   "id": "e7de5e47",
   "metadata": {},
   "outputs": [
    {
     "data": {
      "text/html": [
       "<div>\n",
       "<style scoped>\n",
       "    .dataframe tbody tr th:only-of-type {\n",
       "        vertical-align: middle;\n",
       "    }\n",
       "\n",
       "    .dataframe tbody tr th {\n",
       "        vertical-align: top;\n",
       "    }\n",
       "\n",
       "    .dataframe thead th {\n",
       "        text-align: right;\n",
       "    }\n",
       "</style>\n",
       "<table border=\"1\" class=\"dataframe\">\n",
       "  <thead>\n",
       "    <tr style=\"text-align: right;\">\n",
       "      <th></th>\n",
       "      <th>customer_id</th>\n",
       "      <th>senior_citizen</th>\n",
       "      <th>partner</th>\n",
       "      <th>dependents</th>\n",
       "      <th>tenure</th>\n",
       "      <th>phone_service</th>\n",
       "      <th>multiple_lines</th>\n",
       "      <th>online_security</th>\n",
       "      <th>online_backup</th>\n",
       "      <th>device_protection</th>\n",
       "      <th>...</th>\n",
       "      <th>total_charges</th>\n",
       "      <th>churn</th>\n",
       "      <th>contract_type</th>\n",
       "      <th>internet_service_type</th>\n",
       "      <th>gender_Male</th>\n",
       "      <th>contract_type_One year</th>\n",
       "      <th>contract_type_Two year</th>\n",
       "      <th>internet_service_type_Fiber optic</th>\n",
       "      <th>internet_service_type_None</th>\n",
       "      <th>baseline</th>\n",
       "    </tr>\n",
       "  </thead>\n",
       "  <tbody>\n",
       "    <tr>\n",
       "      <th>0</th>\n",
       "      <td>0002-ORFBO</td>\n",
       "      <td>0</td>\n",
       "      <td>1</td>\n",
       "      <td>1</td>\n",
       "      <td>9</td>\n",
       "      <td>1</td>\n",
       "      <td>No</td>\n",
       "      <td>No</td>\n",
       "      <td>Yes</td>\n",
       "      <td>No</td>\n",
       "      <td>...</td>\n",
       "      <td>593.30</td>\n",
       "      <td>0</td>\n",
       "      <td>One year</td>\n",
       "      <td>DSL</td>\n",
       "      <td>0</td>\n",
       "      <td>1</td>\n",
       "      <td>0</td>\n",
       "      <td>0</td>\n",
       "      <td>0</td>\n",
       "      <td>0</td>\n",
       "    </tr>\n",
       "    <tr>\n",
       "      <th>1</th>\n",
       "      <td>0003-MKNFE</td>\n",
       "      <td>0</td>\n",
       "      <td>0</td>\n",
       "      <td>0</td>\n",
       "      <td>9</td>\n",
       "      <td>1</td>\n",
       "      <td>Yes</td>\n",
       "      <td>No</td>\n",
       "      <td>No</td>\n",
       "      <td>No</td>\n",
       "      <td>...</td>\n",
       "      <td>542.40</td>\n",
       "      <td>0</td>\n",
       "      <td>Month-to-month</td>\n",
       "      <td>DSL</td>\n",
       "      <td>1</td>\n",
       "      <td>0</td>\n",
       "      <td>0</td>\n",
       "      <td>0</td>\n",
       "      <td>0</td>\n",
       "      <td>0</td>\n",
       "    </tr>\n",
       "    <tr>\n",
       "      <th>2</th>\n",
       "      <td>0004-TLHLJ</td>\n",
       "      <td>0</td>\n",
       "      <td>0</td>\n",
       "      <td>0</td>\n",
       "      <td>4</td>\n",
       "      <td>1</td>\n",
       "      <td>No</td>\n",
       "      <td>No</td>\n",
       "      <td>No</td>\n",
       "      <td>Yes</td>\n",
       "      <td>...</td>\n",
       "      <td>280.85</td>\n",
       "      <td>1</td>\n",
       "      <td>Month-to-month</td>\n",
       "      <td>Fiber optic</td>\n",
       "      <td>1</td>\n",
       "      <td>0</td>\n",
       "      <td>0</td>\n",
       "      <td>1</td>\n",
       "      <td>0</td>\n",
       "      <td>0</td>\n",
       "    </tr>\n",
       "    <tr>\n",
       "      <th>3</th>\n",
       "      <td>0011-IGKFF</td>\n",
       "      <td>1</td>\n",
       "      <td>1</td>\n",
       "      <td>0</td>\n",
       "      <td>13</td>\n",
       "      <td>1</td>\n",
       "      <td>No</td>\n",
       "      <td>No</td>\n",
       "      <td>Yes</td>\n",
       "      <td>Yes</td>\n",
       "      <td>...</td>\n",
       "      <td>1237.85</td>\n",
       "      <td>1</td>\n",
       "      <td>Month-to-month</td>\n",
       "      <td>Fiber optic</td>\n",
       "      <td>1</td>\n",
       "      <td>0</td>\n",
       "      <td>0</td>\n",
       "      <td>1</td>\n",
       "      <td>0</td>\n",
       "      <td>0</td>\n",
       "    </tr>\n",
       "    <tr>\n",
       "      <th>4</th>\n",
       "      <td>0013-EXCHZ</td>\n",
       "      <td>1</td>\n",
       "      <td>1</td>\n",
       "      <td>0</td>\n",
       "      <td>3</td>\n",
       "      <td>1</td>\n",
       "      <td>No</td>\n",
       "      <td>No</td>\n",
       "      <td>No</td>\n",
       "      <td>No</td>\n",
       "      <td>...</td>\n",
       "      <td>267.40</td>\n",
       "      <td>1</td>\n",
       "      <td>Month-to-month</td>\n",
       "      <td>Fiber optic</td>\n",
       "      <td>0</td>\n",
       "      <td>0</td>\n",
       "      <td>0</td>\n",
       "      <td>1</td>\n",
       "      <td>0</td>\n",
       "      <td>0</td>\n",
       "    </tr>\n",
       "    <tr>\n",
       "      <th>...</th>\n",
       "      <td>...</td>\n",
       "      <td>...</td>\n",
       "      <td>...</td>\n",
       "      <td>...</td>\n",
       "      <td>...</td>\n",
       "      <td>...</td>\n",
       "      <td>...</td>\n",
       "      <td>...</td>\n",
       "      <td>...</td>\n",
       "      <td>...</td>\n",
       "      <td>...</td>\n",
       "      <td>...</td>\n",
       "      <td>...</td>\n",
       "      <td>...</td>\n",
       "      <td>...</td>\n",
       "      <td>...</td>\n",
       "      <td>...</td>\n",
       "      <td>...</td>\n",
       "      <td>...</td>\n",
       "      <td>...</td>\n",
       "      <td>...</td>\n",
       "    </tr>\n",
       "    <tr>\n",
       "      <th>7038</th>\n",
       "      <td>9282-IZGQK</td>\n",
       "      <td>0</td>\n",
       "      <td>0</td>\n",
       "      <td>0</td>\n",
       "      <td>1</td>\n",
       "      <td>1</td>\n",
       "      <td>Yes</td>\n",
       "      <td>No</td>\n",
       "      <td>No</td>\n",
       "      <td>No</td>\n",
       "      <td>...</td>\n",
       "      <td>85.00</td>\n",
       "      <td>1</td>\n",
       "      <td>Month-to-month</td>\n",
       "      <td>Fiber optic</td>\n",
       "      <td>0</td>\n",
       "      <td>0</td>\n",
       "      <td>0</td>\n",
       "      <td>1</td>\n",
       "      <td>0</td>\n",
       "      <td>0</td>\n",
       "    </tr>\n",
       "    <tr>\n",
       "      <th>7039</th>\n",
       "      <td>9462-MJUAW</td>\n",
       "      <td>0</td>\n",
       "      <td>0</td>\n",
       "      <td>0</td>\n",
       "      <td>4</td>\n",
       "      <td>1</td>\n",
       "      <td>Yes</td>\n",
       "      <td>No</td>\n",
       "      <td>No</td>\n",
       "      <td>No</td>\n",
       "      <td>...</td>\n",
       "      <td>206.60</td>\n",
       "      <td>1</td>\n",
       "      <td>Month-to-month</td>\n",
       "      <td>DSL</td>\n",
       "      <td>1</td>\n",
       "      <td>0</td>\n",
       "      <td>0</td>\n",
       "      <td>0</td>\n",
       "      <td>0</td>\n",
       "      <td>0</td>\n",
       "    </tr>\n",
       "    <tr>\n",
       "      <th>7040</th>\n",
       "      <td>9705-ZJBCG</td>\n",
       "      <td>0</td>\n",
       "      <td>1</td>\n",
       "      <td>1</td>\n",
       "      <td>13</td>\n",
       "      <td>1</td>\n",
       "      <td>No</td>\n",
       "      <td>Yes</td>\n",
       "      <td>No</td>\n",
       "      <td>No</td>\n",
       "      <td>...</td>\n",
       "      <td>701.05</td>\n",
       "      <td>0</td>\n",
       "      <td>One year</td>\n",
       "      <td>DSL</td>\n",
       "      <td>0</td>\n",
       "      <td>1</td>\n",
       "      <td>0</td>\n",
       "      <td>0</td>\n",
       "      <td>0</td>\n",
       "      <td>0</td>\n",
       "    </tr>\n",
       "    <tr>\n",
       "      <th>7041</th>\n",
       "      <td>9777-IQHWP</td>\n",
       "      <td>0</td>\n",
       "      <td>1</td>\n",
       "      <td>1</td>\n",
       "      <td>64</td>\n",
       "      <td>1</td>\n",
       "      <td>Yes</td>\n",
       "      <td>Yes</td>\n",
       "      <td>No</td>\n",
       "      <td>Yes</td>\n",
       "      <td>...</td>\n",
       "      <td>5822.30</td>\n",
       "      <td>0</td>\n",
       "      <td>Two year</td>\n",
       "      <td>Fiber optic</td>\n",
       "      <td>1</td>\n",
       "      <td>0</td>\n",
       "      <td>1</td>\n",
       "      <td>1</td>\n",
       "      <td>0</td>\n",
       "      <td>0</td>\n",
       "    </tr>\n",
       "    <tr>\n",
       "      <th>7042</th>\n",
       "      <td>9809-IMGCQ</td>\n",
       "      <td>1</td>\n",
       "      <td>0</td>\n",
       "      <td>0</td>\n",
       "      <td>22</td>\n",
       "      <td>1</td>\n",
       "      <td>Yes</td>\n",
       "      <td>No</td>\n",
       "      <td>No</td>\n",
       "      <td>No</td>\n",
       "      <td>...</td>\n",
       "      <td>2082.95</td>\n",
       "      <td>1</td>\n",
       "      <td>Month-to-month</td>\n",
       "      <td>Fiber optic</td>\n",
       "      <td>1</td>\n",
       "      <td>0</td>\n",
       "      <td>0</td>\n",
       "      <td>1</td>\n",
       "      <td>0</td>\n",
       "      <td>0</td>\n",
       "    </tr>\n",
       "  </tbody>\n",
       "</table>\n",
       "<p>7043 rows × 25 columns</p>\n",
       "</div>"
      ],
      "text/plain": [
       "     customer_id  senior_citizen  partner  dependents  tenure  phone_service  \\\n",
       "0     0002-ORFBO               0        1           1       9              1   \n",
       "1     0003-MKNFE               0        0           0       9              1   \n",
       "2     0004-TLHLJ               0        0           0       4              1   \n",
       "3     0011-IGKFF               1        1           0      13              1   \n",
       "4     0013-EXCHZ               1        1           0       3              1   \n",
       "...          ...             ...      ...         ...     ...            ...   \n",
       "7038  9282-IZGQK               0        0           0       1              1   \n",
       "7039  9462-MJUAW               0        0           0       4              1   \n",
       "7040  9705-ZJBCG               0        1           1      13              1   \n",
       "7041  9777-IQHWP               0        1           1      64              1   \n",
       "7042  9809-IMGCQ               1        0           0      22              1   \n",
       "\n",
       "     multiple_lines online_security online_backup device_protection  ...  \\\n",
       "0                No              No           Yes                No  ...   \n",
       "1               Yes              No            No                No  ...   \n",
       "2                No              No            No               Yes  ...   \n",
       "3                No              No           Yes               Yes  ...   \n",
       "4                No              No            No                No  ...   \n",
       "...             ...             ...           ...               ...  ...   \n",
       "7038            Yes              No            No                No  ...   \n",
       "7039            Yes              No            No                No  ...   \n",
       "7040             No             Yes            No                No  ...   \n",
       "7041            Yes             Yes            No               Yes  ...   \n",
       "7042            Yes              No            No                No  ...   \n",
       "\n",
       "     total_charges churn   contract_type  internet_service_type  gender_Male  \\\n",
       "0           593.30     0        One year                    DSL            0   \n",
       "1           542.40     0  Month-to-month                    DSL            1   \n",
       "2           280.85     1  Month-to-month            Fiber optic            1   \n",
       "3          1237.85     1  Month-to-month            Fiber optic            1   \n",
       "4           267.40     1  Month-to-month            Fiber optic            0   \n",
       "...            ...   ...             ...                    ...          ...   \n",
       "7038         85.00     1  Month-to-month            Fiber optic            0   \n",
       "7039        206.60     1  Month-to-month                    DSL            1   \n",
       "7040        701.05     0        One year                    DSL            0   \n",
       "7041       5822.30     0        Two year            Fiber optic            1   \n",
       "7042       2082.95     1  Month-to-month            Fiber optic            1   \n",
       "\n",
       "      contract_type_One year  contract_type_Two year  \\\n",
       "0                          1                       0   \n",
       "1                          0                       0   \n",
       "2                          0                       0   \n",
       "3                          0                       0   \n",
       "4                          0                       0   \n",
       "...                      ...                     ...   \n",
       "7038                       0                       0   \n",
       "7039                       0                       0   \n",
       "7040                       1                       0   \n",
       "7041                       0                       1   \n",
       "7042                       0                       0   \n",
       "\n",
       "     internet_service_type_Fiber optic internet_service_type_None  baseline  \n",
       "0                                    0                          0         0  \n",
       "1                                    0                          0         0  \n",
       "2                                    1                          0         0  \n",
       "3                                    1                          0         0  \n",
       "4                                    1                          0         0  \n",
       "...                                ...                        ...       ...  \n",
       "7038                                 1                          0         0  \n",
       "7039                                 0                          0         0  \n",
       "7040                                 0                          0         0  \n",
       "7041                                 1                          0         0  \n",
       "7042                                 1                          0         0  \n",
       "\n",
       "[7043 rows x 25 columns]"
      ]
     },
     "execution_count": 34,
     "metadata": {},
     "output_type": "execute_result"
    }
   ],
   "source": [
    "telco_df['baseline'] = 0\n",
    "telco_df"
   ]
  },
  {
   "cell_type": "code",
   "execution_count": 35,
   "id": "7db341ff",
   "metadata": {},
   "outputs": [
    {
     "data": {
      "text/html": [
       "<div>\n",
       "<style scoped>\n",
       "    .dataframe tbody tr th:only-of-type {\n",
       "        vertical-align: middle;\n",
       "    }\n",
       "\n",
       "    .dataframe tbody tr th {\n",
       "        vertical-align: top;\n",
       "    }\n",
       "\n",
       "    .dataframe thead th {\n",
       "        text-align: right;\n",
       "    }\n",
       "</style>\n",
       "<table border=\"1\" class=\"dataframe\">\n",
       "  <thead>\n",
       "    <tr style=\"text-align: right;\">\n",
       "      <th></th>\n",
       "      <th>customer_id</th>\n",
       "      <th>senior_citizen</th>\n",
       "      <th>partner</th>\n",
       "      <th>dependents</th>\n",
       "      <th>tenure</th>\n",
       "      <th>phone_service</th>\n",
       "      <th>multiple_lines</th>\n",
       "      <th>online_security</th>\n",
       "      <th>online_backup</th>\n",
       "      <th>device_protection</th>\n",
       "      <th>...</th>\n",
       "      <th>total_charges</th>\n",
       "      <th>churn</th>\n",
       "      <th>contract_type</th>\n",
       "      <th>internet_service_type</th>\n",
       "      <th>gender_Male</th>\n",
       "      <th>contract_type_One year</th>\n",
       "      <th>contract_type_Two year</th>\n",
       "      <th>internet_service_type_Fiber optic</th>\n",
       "      <th>internet_service_type_None</th>\n",
       "      <th>baseline</th>\n",
       "    </tr>\n",
       "  </thead>\n",
       "  <tbody>\n",
       "    <tr>\n",
       "      <th>5894</th>\n",
       "      <td>3472-QPRCH</td>\n",
       "      <td>0</td>\n",
       "      <td>1</td>\n",
       "      <td>1</td>\n",
       "      <td>40</td>\n",
       "      <td>1</td>\n",
       "      <td>Yes</td>\n",
       "      <td>No internet service</td>\n",
       "      <td>No internet service</td>\n",
       "      <td>No internet service</td>\n",
       "      <td>...</td>\n",
       "      <td>1006.90</td>\n",
       "      <td>0</td>\n",
       "      <td>Two year</td>\n",
       "      <td>None</td>\n",
       "      <td>1</td>\n",
       "      <td>0</td>\n",
       "      <td>1</td>\n",
       "      <td>0</td>\n",
       "      <td>1</td>\n",
       "      <td>0</td>\n",
       "    </tr>\n",
       "    <tr>\n",
       "      <th>2440</th>\n",
       "      <td>2676-ISHSF</td>\n",
       "      <td>0</td>\n",
       "      <td>0</td>\n",
       "      <td>0</td>\n",
       "      <td>1</td>\n",
       "      <td>1</td>\n",
       "      <td>No</td>\n",
       "      <td>No internet service</td>\n",
       "      <td>No internet service</td>\n",
       "      <td>No internet service</td>\n",
       "      <td>...</td>\n",
       "      <td>20.30</td>\n",
       "      <td>0</td>\n",
       "      <td>Month-to-month</td>\n",
       "      <td>None</td>\n",
       "      <td>1</td>\n",
       "      <td>0</td>\n",
       "      <td>0</td>\n",
       "      <td>0</td>\n",
       "      <td>1</td>\n",
       "      <td>0</td>\n",
       "    </tr>\n",
       "    <tr>\n",
       "      <th>5995</th>\n",
       "      <td>2157-MXBJS</td>\n",
       "      <td>0</td>\n",
       "      <td>1</td>\n",
       "      <td>0</td>\n",
       "      <td>13</td>\n",
       "      <td>1</td>\n",
       "      <td>Yes</td>\n",
       "      <td>No</td>\n",
       "      <td>No</td>\n",
       "      <td>Yes</td>\n",
       "      <td>...</td>\n",
       "      <td>989.45</td>\n",
       "      <td>1</td>\n",
       "      <td>One year</td>\n",
       "      <td>DSL</td>\n",
       "      <td>1</td>\n",
       "      <td>1</td>\n",
       "      <td>0</td>\n",
       "      <td>0</td>\n",
       "      <td>0</td>\n",
       "      <td>0</td>\n",
       "    </tr>\n",
       "    <tr>\n",
       "      <th>6048</th>\n",
       "      <td>3129-AAQOU</td>\n",
       "      <td>0</td>\n",
       "      <td>1</td>\n",
       "      <td>1</td>\n",
       "      <td>19</td>\n",
       "      <td>1</td>\n",
       "      <td>Yes</td>\n",
       "      <td>No internet service</td>\n",
       "      <td>No internet service</td>\n",
       "      <td>No internet service</td>\n",
       "      <td>...</td>\n",
       "      <td>485.90</td>\n",
       "      <td>0</td>\n",
       "      <td>Two year</td>\n",
       "      <td>None</td>\n",
       "      <td>0</td>\n",
       "      <td>0</td>\n",
       "      <td>1</td>\n",
       "      <td>0</td>\n",
       "      <td>1</td>\n",
       "      <td>0</td>\n",
       "    </tr>\n",
       "    <tr>\n",
       "      <th>785</th>\n",
       "      <td>1142-IHLOO</td>\n",
       "      <td>0</td>\n",
       "      <td>0</td>\n",
       "      <td>0</td>\n",
       "      <td>51</td>\n",
       "      <td>1</td>\n",
       "      <td>No</td>\n",
       "      <td>No</td>\n",
       "      <td>No</td>\n",
       "      <td>No</td>\n",
       "      <td>...</td>\n",
       "      <td>4475.90</td>\n",
       "      <td>0</td>\n",
       "      <td>One year</td>\n",
       "      <td>Fiber optic</td>\n",
       "      <td>0</td>\n",
       "      <td>1</td>\n",
       "      <td>0</td>\n",
       "      <td>1</td>\n",
       "      <td>0</td>\n",
       "      <td>0</td>\n",
       "    </tr>\n",
       "  </tbody>\n",
       "</table>\n",
       "<p>5 rows × 25 columns</p>\n",
       "</div>"
      ],
      "text/plain": [
       "     customer_id  senior_citizen  partner  dependents  tenure  phone_service  \\\n",
       "5894  3472-QPRCH               0        1           1      40              1   \n",
       "2440  2676-ISHSF               0        0           0       1              1   \n",
       "5995  2157-MXBJS               0        1           0      13              1   \n",
       "6048  3129-AAQOU               0        1           1      19              1   \n",
       "785   1142-IHLOO               0        0           0      51              1   \n",
       "\n",
       "     multiple_lines      online_security        online_backup  \\\n",
       "5894            Yes  No internet service  No internet service   \n",
       "2440             No  No internet service  No internet service   \n",
       "5995            Yes                   No                   No   \n",
       "6048            Yes  No internet service  No internet service   \n",
       "785              No                   No                   No   \n",
       "\n",
       "        device_protection  ... total_charges churn   contract_type  \\\n",
       "5894  No internet service  ...       1006.90     0        Two year   \n",
       "2440  No internet service  ...         20.30     0  Month-to-month   \n",
       "5995                  Yes  ...        989.45     1        One year   \n",
       "6048  No internet service  ...        485.90     0        Two year   \n",
       "785                    No  ...       4475.90     0        One year   \n",
       "\n",
       "      internet_service_type  gender_Male  contract_type_One year  \\\n",
       "5894                   None            1                       0   \n",
       "2440                   None            1                       0   \n",
       "5995                    DSL            1                       1   \n",
       "6048                   None            0                       0   \n",
       "785             Fiber optic            0                       1   \n",
       "\n",
       "      contract_type_Two year internet_service_type_Fiber optic  \\\n",
       "5894                       1                                 0   \n",
       "2440                       0                                 0   \n",
       "5995                       0                                 0   \n",
       "6048                       1                                 0   \n",
       "785                        0                                 1   \n",
       "\n",
       "     internet_service_type_None  baseline  \n",
       "5894                          1         0  \n",
       "2440                          1         0  \n",
       "5995                          0         0  \n",
       "6048                          1         0  \n",
       "785                           0         0  \n",
       "\n",
       "[5 rows x 25 columns]"
      ]
     },
     "execution_count": 35,
     "metadata": {},
     "output_type": "execute_result"
    }
   ],
   "source": [
    "train_telco, validate_telco, test_telco = split_data_telco(telco_df)\n",
    "train_telco.head()"
   ]
  },
  {
   "cell_type": "code",
   "execution_count": 36,
   "id": "01392192",
   "metadata": {},
   "outputs": [
    {
     "name": "stdout",
     "output_type": "stream",
     "text": [
      "Baseline Accuracy 0.7346745562130178\n"
     ]
    }
   ],
   "source": [
    "print('Baseline Accuracy', accuracy_score(train_telco.churn, train_telco.baseline))"
   ]
  },
  {
   "cell_type": "code",
   "execution_count": 37,
   "id": "e1d50b74",
   "metadata": {},
   "outputs": [],
   "source": [
    "X_cols = ['monthly_charges', 'paperless_billing', 'gender_Male', 'phone_service', 'senior_citizen', 'internet_service_type_Fiber optic']\n",
    "X_train_telco = train_telco[X_cols]\n",
    "y_train_telco = train_telco.churn\n",
    "\n",
    "X_validate_telco = validate_telco[X_cols]\n",
    "y_validate_telco = validate_telco.churn\n",
    "\n",
    "X_test_telco = test_telco[X_cols]\n",
    "y_test_telco = test_telco.churn"
   ]
  },
  {
   "cell_type": "code",
   "execution_count": 47,
   "id": "186ad619",
   "metadata": {},
   "outputs": [
    {
     "name": "stdout",
     "output_type": "stream",
     "text": [
      "training score: 75.64%\n",
      "validate score: 74.73%\n"
     ]
    }
   ],
   "source": [
    "model1 = DecisionTreeClassifier(max_depth=3, random_state=123)\n",
    "model1 = model1.fit(X_train_telco, y_train_telco)\n",
    "y_pred = model1.predict(X_train_telco)\n",
    "y_pred_proba = model1.predict_proba(X_train_telco)\n",
    "print(f'training score: {model1.score(X_train_telco, y_train_telco):.2%}')\n",
    "print(f'validate score: {model1.score(X_validate_telco, y_validate_telco):.2%}')\n"
   ]
  },
  {
   "cell_type": "code",
   "execution_count": 39,
   "id": "a97ad699",
   "metadata": {
    "scrolled": false
   },
   "outputs": [
    {
     "data": {
      "image/png": "[encoded data removed]",
      "text/plain": [
       "<Figure size 1728x864 with 1 Axes>"
      ]
     },
     "metadata": {
      "needs_background": "light"
     },
     "output_type": "display_data"
    }
   ],
   "source": [
    "plt.figure(figsize=(24,12))\n",
    "plot_tree(model1, feature_names=X_train_telco.columns.to_list(), class_names=['no churn', 'churn']);"
   ]
  },
  {
   "cell_type": "code",
   "execution_count": 48,
   "id": "b5f006d3",
   "metadata": {},
   "outputs": [
    {
     "data": {
      "text/plain": [
       "array([[961,  74],\n",
       "       [282,  92]])"
      ]
     },
     "execution_count": 48,
     "metadata": {},
     "output_type": "execute_result"
    }
   ],
   "source": [
    "y_pred = model1.predict(X_validate_telco)\n",
    "confusion_matrix(y_validate_telco, y_pred)"
   ]
  },
  {
   "cell_type": "code",
   "execution_count": 40,
   "id": "f2d9b2b4",
   "metadata": {},
   "outputs": [],
   "source": [
    "TN = 961\n",
    "FP = 74\n",
    "FN = 282\n",
    "TP = 92\n",
    "# Recall or true positive rate\n",
    "TPR = TP/(TP+FN)\n",
    "# Specificity or true negative rate\n",
    "TNR = TN/(TN+FP) \n",
    "# Negative predictive value\n",
    "NPV = TN/(TN+FN)\n",
    "# Fall out or false positive rate\n",
    "FPR = FP/(FP+TN)\n",
    "# False negative rate\n",
    "FNR = FN/(TP+FN)"
   ]
  },
  {
   "cell_type": "code",
   "execution_count": 41,
   "id": "2037d29f",
   "metadata": {},
   "outputs": [
    {
     "name": "stdout",
     "output_type": "stream",
     "text": [
      "TPR 0.25\n",
      "FPR 0.07\n",
      "TNR 0.93\n",
      "FNR 0.75\n"
     ]
    }
   ],
   "source": [
    "print('TPR', round(TPR, 2))\n",
    "print('FPR', round(FPR, 2))\n",
    "print('TNR', round(TNR, 2))\n",
    "print('FNR', round(FNR, 2))"
   ]
  },
  {
   "cell_type": "code",
   "execution_count": 42,
   "id": "4e24d166",
   "metadata": {},
   "outputs": [
    {
     "name": "stdout",
     "output_type": "stream",
     "text": [
      "training score: 91.74%\n",
      "validate score: 70.19%\n"
     ]
    },
    {
     "data": {
      "text/plain": [
       "array([[861, 174],\n",
       "       [246, 128]])"
      ]
     },
     "execution_count": 42,
     "metadata": {},
     "output_type": "execute_result"
    }
   ],
   "source": [
    "model2 = DecisionTreeClassifier(max_depth=20, random_state=123)\n",
    "model2 = model2.fit(X_train_telco, y_train_telco)\n",
    "y_pred = model2.predict(X_train_telco)\n",
    "y_pred_proba = model2.predict_proba(X_train_telco)\n",
    "print(f'training score: {model2.score(X_train_telco, y_train_telco):.2%}')\n",
    "print(f'validate score: {model2.score(X_validate_telco, y_validate_telco):.2%}')\n"
   ]
  },
  {
   "cell_type": "code",
   "execution_count": 49,
   "id": "37fed104",
   "metadata": {},
   "outputs": [
    {
     "data": {
      "text/plain": [
       "array([[861, 174],\n",
       "       [246, 128]])"
      ]
     },
     "execution_count": 49,
     "metadata": {},
     "output_type": "execute_result"
    }
   ],
   "source": [
    "y_pred = model2.predict(X_validate_telco)\n",
    "confusion_matrix(y_validate_telco, y_pred)"
   ]
  },
  {
   "cell_type": "code",
   "execution_count": 43,
   "id": "12a6aff4",
   "metadata": {},
   "outputs": [
    {
     "name": "stdout",
     "output_type": "stream",
     "text": [
      "TPR 0.34\n",
      "FPR 0.17\n",
      "TNR 0.83\n",
      "FNR 0.66\n"
     ]
    }
   ],
   "source": [
    "TN = 861\n",
    "FP = 174\n",
    "FN = 246\n",
    "TP = 128\n",
    "# Recall or true positive rate\n",
    "TPR = TP/(TP+FN)\n",
    "# Specificity or true negative rate\n",
    "TNR = TN/(TN+FP) \n",
    "# Negative predictive value\n",
    "NPV = TN/(TN+FN)\n",
    "# Fall out or false positive rate\n",
    "FPR = FP/(FP+TN)\n",
    "# False negative rate\n",
    "FNR = FN/(TP+FN)\n",
    "\n",
    "print('TPR', round(TPR, 2))\n",
    "print('FPR', round(FPR, 2))\n",
    "print('TNR', round(TNR, 2))\n",
    "print('FNR', round(FNR, 2))"
   ]
  },
  {
   "cell_type": "markdown",
   "id": "7bf28f72",
   "metadata": {},
   "source": [
    "## Continue working in your model file with titanic data to do the following:\n",
    "\n",
    "### Fit the Random Forest classifier to your training sample and transform (i.e. make predictions on the training sample) setting the random_state accordingly and setting min_samples_leaf = 1 and max_depth = 10.\n",
    "\n"
   ]
  },
  {
   "cell_type": "code",
   "execution_count": 183,
   "id": "0757a313",
   "metadata": {
    "scrolled": true
   },
   "outputs": [
    {
     "name": "stdout",
     "output_type": "stream",
     "text": [
      "[0.12227721 0.4736073  0.05139423 0.35272127]\n",
      "Accuracy of random forest classifier on training set: 0.93\n"
     ]
    }
   ],
   "source": [
    "rf = RandomForestClassifier(min_samples_leaf=1, max_depth=10, random_state=123)\n",
    "rf.fit(x_train_titanic, y_train_titanic)\n",
    "print(rf.feature_importances_)\n",
    "y_pred = rf.predict(x_train_titanic)\n",
    "y_pred_proba = rf.predict_proba(x_train_titanic)\n",
    "print('Accuracy of random forest classifier on training set: {:.2f}'.format(rf.score(x_train_titanic, y_train_titanic)))\n"
   ]
  },
  {
   "cell_type": "markdown",
   "id": "269c9e2c",
   "metadata": {},
   "source": [
    "### Evaluate your results using the model score, confusion matrix, and classification report.\n",
    "\n",
    "### Print and clearly label the following: Accuracy, true positive rate, false positive rate, true negative rate, false negative rate, precision, recall, f1-score, and support."
   ]
  },
  {
   "cell_type": "code",
   "execution_count": 184,
   "id": "78de29a7",
   "metadata": {},
   "outputs": [
    {
     "name": "stdout",
     "output_type": "stream",
     "text": [
      "[[322   7]\n",
      " [ 29 176]]\n",
      "              precision    recall  f1-score   support\n",
      "\n",
      "           0       0.92      0.98      0.95       329\n",
      "           1       0.96      0.86      0.91       205\n",
      "\n",
      "    accuracy                           0.93       534\n",
      "   macro avg       0.94      0.92      0.93       534\n",
      "weighted avg       0.93      0.93      0.93       534\n",
      "\n"
     ]
    }
   ],
   "source": [
    "print(confusion_matrix(y_train_titanic, y_pred))\n",
    "print(classification_report(y_train_titanic, y_pred))"
   ]
  },
  {
   "cell_type": "code",
   "execution_count": 195,
   "id": "e8277ea4",
   "metadata": {},
   "outputs": [
    {
     "name": "stdout",
     "output_type": "stream",
     "text": [
      "TPR 0.86\n",
      "FPR 0.02\n",
      "TNR 0.98\n",
      "FNR 0.14\n"
     ]
    }
   ],
   "source": [
    "TN = 322\n",
    "FP = 7\n",
    "FN = 29\n",
    "TP = 176\n",
    "# Recall or true positive rate\n",
    "TPR = TP/(TP+FN)\n",
    "# Specificity or true negative rate\n",
    "TNR = TN/(TN+FP) \n",
    "# Negative predictive value\n",
    "NPV = TN/(TN+FN)\n",
    "# Fall out or false positive rate\n",
    "FPR = FP/(FP+TN)\n",
    "# False negative rate\n",
    "FNR = FN/(TP+FN)\n",
    "\n",
    "print('TPR', round(TPR, 2))\n",
    "print('FPR', round(FPR, 2))\n",
    "print('TNR', round(TNR, 2))\n",
    "print('FNR', round(FNR, 2))"
   ]
  },
  {
   "cell_type": "code",
   "execution_count": 186,
   "id": "131b3893",
   "metadata": {},
   "outputs": [
    {
     "name": "stdout",
     "output_type": "stream",
     "text": [
      "Accuracy of random forest classifier on test set: 0.77\n"
     ]
    }
   ],
   "source": [
    "print('Accuracy of random forest classifier on test set: {:.2f}'.format(rf.score(X_validate_titanic, y_validate_titanic)))"
   ]
  },
  {
   "cell_type": "markdown",
   "id": "4aa7a6be",
   "metadata": {},
   "source": [
    "### Run through steps increasing your min_samples_leaf and decreasing your max_depth.\n",
    "\n"
   ]
  },
  {
   "cell_type": "code",
   "execution_count": 187,
   "id": "bce7ac60",
   "metadata": {},
   "outputs": [
    {
     "name": "stdout",
     "output_type": "stream",
     "text": [
      "[0.1761489  0.18900725 0.02750026 0.60734359]\n",
      "Accuracy of random forest classifier on training set: 0.83\n"
     ]
    }
   ],
   "source": [
    "rf2 = RandomForestClassifier(min_samples_leaf=5, max_depth=3, random_state=123)\n",
    "rf2.fit(x_train_titanic, y_train_titanic)\n",
    "print(rf2.feature_importances_)\n",
    "y_pred = rf2.predict(x_train_titanic)\n",
    "y_pred_proba = rf2.predict_proba(x_train_titanic)\n",
    "print('Accuracy of random forest classifier on training set: {:.2f}'.format(rf2.score(x_train_titanic, y_train_titanic)))\n"
   ]
  },
  {
   "cell_type": "code",
   "execution_count": 188,
   "id": "698e8b86",
   "metadata": {},
   "outputs": [
    {
     "name": "stdout",
     "output_type": "stream",
     "text": [
      "[[305  24]\n",
      " [ 69 136]]\n",
      "              precision    recall  f1-score   support\n",
      "\n",
      "           0       0.82      0.93      0.87       329\n",
      "           1       0.85      0.66      0.75       205\n",
      "\n",
      "    accuracy                           0.83       534\n",
      "   macro avg       0.83      0.80      0.81       534\n",
      "weighted avg       0.83      0.83      0.82       534\n",
      "\n"
     ]
    }
   ],
   "source": [
    "print(confusion_matrix(y_train_titanic, y_pred))\n",
    "print(classification_report(y_train_titanic, y_pred))"
   ]
  },
  {
   "cell_type": "code",
   "execution_count": 196,
   "id": "d98d76d1",
   "metadata": {},
   "outputs": [
    {
     "name": "stdout",
     "output_type": "stream",
     "text": [
      "TPR 0.66\n",
      "FPR 0.07\n",
      "TNR 0.93\n",
      "FNR 0.34\n"
     ]
    }
   ],
   "source": [
    "TN = 305\n",
    "FP = 24\n",
    "FN = 69\n",
    "TP = 136\n",
    "# Recall or true positive rate\n",
    "TPR = TP/(TP+FN)\n",
    "# Specificity or true negative rate\n",
    "TNR = TN/(TN+FP) \n",
    "# Negative predictive value\n",
    "NPV = TN/(TN+FN)\n",
    "# Fall out or false positive rate\n",
    "FPR = FP/(FP+TN)\n",
    "# False negative rate\n",
    "FNR = FN/(TP+FN)\n",
    "\n",
    "print('TPR', round(TPR, 2))\n",
    "print('FPR', round(FPR, 2))\n",
    "print('TNR', round(TNR, 2))\n",
    "print('FNR', round(FNR, 2))"
   ]
  },
  {
   "cell_type": "code",
   "execution_count": 190,
   "id": "d57a8b1c",
   "metadata": {},
   "outputs": [
    {
     "name": "stdout",
     "output_type": "stream",
     "text": [
      "Accuracy of random forest classifier on test set: 0.78\n"
     ]
    }
   ],
   "source": [
    "print('Accuracy of random forest classifier on test set: {:.2f}'.format(rf2.score(X_validate_titanic, y_validate_titanic)))"
   ]
  },
  {
   "cell_type": "markdown",
   "id": "368ff617",
   "metadata": {},
   "source": [
    "### What are the differences in the evaluation metrics? Which performs better on your in-sample data? Why?\n",
    "\n"
   ]
  },
  {
   "cell_type": "markdown",
   "id": "3ac22edb",
   "metadata": {},
   "source": [
    "- The min_samples_leaf=1 and max_depth=10 performs better with an accuracy of 93%"
   ]
  },
  {
   "cell_type": "markdown",
   "id": "92116b53",
   "metadata": {},
   "source": [
    "### After making a few models, which one has the best performance (or closest metrics) on both train and validate?"
   ]
  },
  {
   "cell_type": "code",
   "execution_count": 194,
   "id": "0ddad856",
   "metadata": {},
   "outputs": [
    {
     "name": "stdout",
     "output_type": "stream",
     "text": [
      "[0.1618018  0.30451119 0.03556593 0.49812108]\n",
      "Accuracy of random forest classifier on training set: 0.85\n"
     ]
    }
   ],
   "source": [
    "rf3 = RandomForestClassifier(min_samples_leaf=5, max_depth=10, random_state=123)\n",
    "rf3.fit(x_train_titanic, y_train_titanic)\n",
    "print(rf3.feature_importances_)\n",
    "y_pred = rf3.predict(x_train_titanic)\n",
    "y_pred_proba = rf3.predict_proba(x_train_titanic)\n",
    "print('Accuracy of random forest classifier on training set: {:.2f}'.format(rf3.score(x_train_titanic, y_train_titanic)))\n"
   ]
  },
  {
   "cell_type": "code",
   "execution_count": 202,
   "id": "0f7b4eec",
   "metadata": {
    "scrolled": true
   },
   "outputs": [
    {
     "name": "stdout",
     "output_type": "stream",
     "text": [
      "              precision    recall  f1-score   support\n",
      "\n",
      "           0       0.83      0.95      0.89       329\n",
      "           1       0.90      0.70      0.79       205\n",
      "\n",
      "    accuracy                           0.85       534\n",
      "   macro avg       0.87      0.82      0.84       534\n",
      "weighted avg       0.86      0.85      0.85       534\n",
      "\n"
     ]
    }
   ],
   "source": [
    "cm = confusion_matrix(y_train_titanic, y_pred)\n",
    "print(classification_report(y_train_titanic, y_pred))"
   ]
  },
  {
   "cell_type": "code",
   "execution_count": null,
   "id": "35c85fe3",
   "metadata": {},
   "outputs": [],
   "source": [
    "def model_scores(cm):\n",
    "    '''\n",
    "    Function to get all model scores necessary for codeup exercises\n",
    "    Accepts a confusion matrix, and prints a report with the following:\n",
    "        Accuracy\n",
    "        True positive rate\n",
    "        False positive rate\n",
    "        True negative rate\n",
    "        False negative rate \n",
    "        Precision\n",
    "        Recall\n",
    "        f1-score\n",
    "        positive support\n",
    "        negative support\n",
    "    '''\n",
    "    \n",
    "    TN = cm[0,0]\n",
    "    FP = cm[0,1]\n",
    "    FN = cm[1,0]\n",
    "    TP = cm[1,1]\n",
    "    ALL = TP + FP + FN + TN\n",
    "    \n",
    "    print('Model stats for Random Forest with:')\n",
    "   \n",
    "    # accuracy\n",
    "    acc = (TP + TN) / ALL\n",
    "    print('Accuracy: {:.2f}'.format(acc))\n",
    "    # true positive rate, also recall\n",
    "    TPR = recall = TP/ (TP + FN)\n",
    "    print('True Positive Rate: {:.2f}'.format(TPR))\n",
    "    # false positive rate\n",
    "    FPR = FP / (FP + TN)\n",
    "    print('False Positive Rate: {:.2f}'.format(FPR))\n",
    "    # true negative rate\n",
    "    TNR = TN / (TN + FP)\n",
    "    print('True Negative Rate: {:.2f}'.format(TNR))\n",
    "    # false negative rate\n",
    "    FNR = FN / (FN + TP)\n",
    "    print('Flase Negative Rate: {:.2f}'.format(FNR))\n",
    "    # precision\n",
    "    precision = TP / (TP + FP)\n",
    "    print('Precision: {:.2f}'.format(precision))\n",
    "    # recall\n",
    "    print('Recall: {:.2f}'.format(recall))\n",
    "    # f1\n",
    "    f1_score = 2 * (precision*recall) / (precision+recall)\n",
    "    print('f1 score: {:.2f}'.format(f1_score))\n",
    "    # support\n",
    "    support_pos = TP + FN\n",
    "    print('Positive support:',support_pos)\n",
    "    support_neg = FP + TN\n",
    "    print('Negative support:',support_neg)\n",
    "    print('-----------------------------------------')"
   ]
  },
  {
   "cell_type": "code",
   "execution_count": 203,
   "id": "e06fc1b3",
   "metadata": {},
   "outputs": [
    {
     "name": "stdout",
     "output_type": "stream",
     "text": [
      "Model stats for Random Forest with:\n",
      "Accuracy: 0.85\n",
      "True Positive Rate: 0.70\n",
      "False Positive Rate: 0.05\n",
      "True Negative Rate: 0.95\n",
      "Flase Negative Rate: 0.30\n",
      "Precision: 0.90\n",
      "Recall: 0.70\n",
      "f1 score: 0.79\n",
      "Positive support: 205\n",
      "Negative support: 329\n",
      "-----------------------------------------\n"
     ]
    }
   ],
   "source": [
    "model_scores(cm)"
   ]
  },
  {
   "cell_type": "code",
   "execution_count": 198,
   "id": "f375ac9e",
   "metadata": {},
   "outputs": [],
   "source": []
  },
  {
   "cell_type": "code",
   "execution_count": null,
   "id": "4021c574",
   "metadata": {},
   "outputs": [],
   "source": []
  }
 ],
 "metadata": {
  "kernelspec": {
   "display_name": "Python 3 (ipykernel)",
   "language": "python",
   "name": "python3"
  },
  "language_info": {
   "codemirror_mode": {
    "name": "ipython",
    "version": 3
   },
   "file_extension": ".py",
   "mimetype": "text/x-python",
   "name": "python",
   "nbconvert_exporter": "python",
   "pygments_lexer": "ipython3",
   "version": "3.9.12"
  }
 },
 "nbformat": 4,
 "nbformat_minor": 5
}
