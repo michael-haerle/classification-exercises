{
 "cells": [
  {
   "cell_type": "markdown",
   "id": "d7f9b534",
   "metadata": {},
   "source": [
    "## Using the titanic data, in your classification-exercises repository, create a notebook, model.ipynb where you will do the following:"
   ]
  },
  {
   "cell_type": "code",
   "execution_count": 1,
   "id": "650d89f4",
   "metadata": {},
   "outputs": [],
   "source": [
    "import warnings\n",
    "warnings.filterwarnings(\"ignore\")\n",
    "\n",
    "import numpy as np\n",
    "import pandas as pd\n",
    "from pydataset import data\n",
    "import os\n",
    "import math\n",
    "from scipy import stats\n",
    "from sklearn.model_selection import train_test_split\n",
    "from sklearn.tree import DecisionTreeClassifier, plot_tree\n",
    "from sklearn.metrics import classification_report\n",
    "from sklearn.metrics import confusion_matrix\n",
    "from sklearn.metrics import accuracy_score\n",
    "from sklearn.metrics import precision_score\n",
    "from sklearn.metrics import recall_score\n",
    "import matplotlib.pyplot as plt\n",
    "import seaborn as sns\n",
    "\n",
    "import acquire\n",
    "import prepare"
   ]
  },
  {
   "cell_type": "code",
   "execution_count": 2,
   "id": "dc6f7763",
   "metadata": {},
   "outputs": [],
   "source": [
    "titanic_df = acquire.get_titanic_data()\n",
    "def prep_titanic(titanic_df):\n",
    "    titanic_df = titanic_df.drop_duplicates()\n",
    "    titanic_df['embark_town'] = titanic_df.embark_town.fillna(value='Southampton')\n",
    "    dummy_titanic_df = pd.get_dummies(titanic_df[['sex','embark_town']], dummy_na=False, drop_first=[True, True])\n",
    "    titanic_df = pd.concat([titanic_df, dummy_titanic_df], axis=1)\n",
    "    cols_to_drop = ['deck', 'embarked', 'class', 'age', 'sex', 'embark_town']\n",
    "    titanic_df = titanic_df.drop(columns=cols_to_drop)\n",
    "    return titanic_df\n",
    "def split_data_titanic(titanic_df):\n",
    "    train_titanic, test_titanic = train_test_split(titanic_df, test_size=.2, random_state=123, stratify=titanic_df.survived)\n",
    "    train_titanic, validate_titanic = train_test_split(train_titanic, test_size=.25, random_state=123, stratify=train_titanic.survived)\n",
    "    return train_titanic, validate_titanic, test_titanic\n"
   ]
  },
  {
   "cell_type": "code",
   "execution_count": 3,
   "id": "2fb9d84d",
   "metadata": {},
   "outputs": [],
   "source": [
    "titanic_df = prep_titanic(titanic_df)"
   ]
  },
  {
   "cell_type": "code",
   "execution_count": 4,
   "id": "85c46a18",
   "metadata": {},
   "outputs": [
    {
     "data": {
      "text/html": [
       "<div>\n",
       "<style scoped>\n",
       "    .dataframe tbody tr th:only-of-type {\n",
       "        vertical-align: middle;\n",
       "    }\n",
       "\n",
       "    .dataframe tbody tr th {\n",
       "        vertical-align: top;\n",
       "    }\n",
       "\n",
       "    .dataframe thead th {\n",
       "        text-align: right;\n",
       "    }\n",
       "</style>\n",
       "<table border=\"1\" class=\"dataframe\">\n",
       "  <thead>\n",
       "    <tr style=\"text-align: right;\">\n",
       "      <th></th>\n",
       "      <th>passenger_id</th>\n",
       "      <th>survived</th>\n",
       "      <th>pclass</th>\n",
       "      <th>sibsp</th>\n",
       "      <th>parch</th>\n",
       "      <th>fare</th>\n",
       "      <th>alone</th>\n",
       "      <th>sex_male</th>\n",
       "      <th>embark_town_Queenstown</th>\n",
       "      <th>embark_town_Southampton</th>\n",
       "      <th>baseline</th>\n",
       "    </tr>\n",
       "  </thead>\n",
       "  <tbody>\n",
       "    <tr>\n",
       "      <th>0</th>\n",
       "      <td>0</td>\n",
       "      <td>0</td>\n",
       "      <td>3</td>\n",
       "      <td>1</td>\n",
       "      <td>0</td>\n",
       "      <td>7.2500</td>\n",
       "      <td>0</td>\n",
       "      <td>1</td>\n",
       "      <td>0</td>\n",
       "      <td>1</td>\n",
       "      <td>0</td>\n",
       "    </tr>\n",
       "    <tr>\n",
       "      <th>1</th>\n",
       "      <td>1</td>\n",
       "      <td>1</td>\n",
       "      <td>1</td>\n",
       "      <td>1</td>\n",
       "      <td>0</td>\n",
       "      <td>71.2833</td>\n",
       "      <td>0</td>\n",
       "      <td>0</td>\n",
       "      <td>0</td>\n",
       "      <td>0</td>\n",
       "      <td>0</td>\n",
       "    </tr>\n",
       "    <tr>\n",
       "      <th>2</th>\n",
       "      <td>2</td>\n",
       "      <td>1</td>\n",
       "      <td>3</td>\n",
       "      <td>0</td>\n",
       "      <td>0</td>\n",
       "      <td>7.9250</td>\n",
       "      <td>1</td>\n",
       "      <td>0</td>\n",
       "      <td>0</td>\n",
       "      <td>1</td>\n",
       "      <td>0</td>\n",
       "    </tr>\n",
       "    <tr>\n",
       "      <th>3</th>\n",
       "      <td>3</td>\n",
       "      <td>1</td>\n",
       "      <td>1</td>\n",
       "      <td>1</td>\n",
       "      <td>0</td>\n",
       "      <td>53.1000</td>\n",
       "      <td>0</td>\n",
       "      <td>0</td>\n",
       "      <td>0</td>\n",
       "      <td>1</td>\n",
       "      <td>0</td>\n",
       "    </tr>\n",
       "    <tr>\n",
       "      <th>4</th>\n",
       "      <td>4</td>\n",
       "      <td>0</td>\n",
       "      <td>3</td>\n",
       "      <td>0</td>\n",
       "      <td>0</td>\n",
       "      <td>8.0500</td>\n",
       "      <td>1</td>\n",
       "      <td>1</td>\n",
       "      <td>0</td>\n",
       "      <td>1</td>\n",
       "      <td>0</td>\n",
       "    </tr>\n",
       "    <tr>\n",
       "      <th>...</th>\n",
       "      <td>...</td>\n",
       "      <td>...</td>\n",
       "      <td>...</td>\n",
       "      <td>...</td>\n",
       "      <td>...</td>\n",
       "      <td>...</td>\n",
       "      <td>...</td>\n",
       "      <td>...</td>\n",
       "      <td>...</td>\n",
       "      <td>...</td>\n",
       "      <td>...</td>\n",
       "    </tr>\n",
       "    <tr>\n",
       "      <th>886</th>\n",
       "      <td>886</td>\n",
       "      <td>0</td>\n",
       "      <td>2</td>\n",
       "      <td>0</td>\n",
       "      <td>0</td>\n",
       "      <td>13.0000</td>\n",
       "      <td>1</td>\n",
       "      <td>1</td>\n",
       "      <td>0</td>\n",
       "      <td>1</td>\n",
       "      <td>0</td>\n",
       "    </tr>\n",
       "    <tr>\n",
       "      <th>887</th>\n",
       "      <td>887</td>\n",
       "      <td>1</td>\n",
       "      <td>1</td>\n",
       "      <td>0</td>\n",
       "      <td>0</td>\n",
       "      <td>30.0000</td>\n",
       "      <td>1</td>\n",
       "      <td>0</td>\n",
       "      <td>0</td>\n",
       "      <td>1</td>\n",
       "      <td>0</td>\n",
       "    </tr>\n",
       "    <tr>\n",
       "      <th>888</th>\n",
       "      <td>888</td>\n",
       "      <td>0</td>\n",
       "      <td>3</td>\n",
       "      <td>1</td>\n",
       "      <td>2</td>\n",
       "      <td>23.4500</td>\n",
       "      <td>0</td>\n",
       "      <td>0</td>\n",
       "      <td>0</td>\n",
       "      <td>1</td>\n",
       "      <td>0</td>\n",
       "    </tr>\n",
       "    <tr>\n",
       "      <th>889</th>\n",
       "      <td>889</td>\n",
       "      <td>1</td>\n",
       "      <td>1</td>\n",
       "      <td>0</td>\n",
       "      <td>0</td>\n",
       "      <td>30.0000</td>\n",
       "      <td>1</td>\n",
       "      <td>1</td>\n",
       "      <td>0</td>\n",
       "      <td>0</td>\n",
       "      <td>0</td>\n",
       "    </tr>\n",
       "    <tr>\n",
       "      <th>890</th>\n",
       "      <td>890</td>\n",
       "      <td>0</td>\n",
       "      <td>3</td>\n",
       "      <td>0</td>\n",
       "      <td>0</td>\n",
       "      <td>7.7500</td>\n",
       "      <td>1</td>\n",
       "      <td>1</td>\n",
       "      <td>1</td>\n",
       "      <td>0</td>\n",
       "      <td>0</td>\n",
       "    </tr>\n",
       "  </tbody>\n",
       "</table>\n",
       "<p>891 rows × 11 columns</p>\n",
       "</div>"
      ],
      "text/plain": [
       "     passenger_id  survived  pclass  sibsp  parch     fare  alone  sex_male  \\\n",
       "0               0         0       3      1      0   7.2500      0         1   \n",
       "1               1         1       1      1      0  71.2833      0         0   \n",
       "2               2         1       3      0      0   7.9250      1         0   \n",
       "3               3         1       1      1      0  53.1000      0         0   \n",
       "4               4         0       3      0      0   8.0500      1         1   \n",
       "..            ...       ...     ...    ...    ...      ...    ...       ...   \n",
       "886           886         0       2      0      0  13.0000      1         1   \n",
       "887           887         1       1      0      0  30.0000      1         0   \n",
       "888           888         0       3      1      2  23.4500      0         0   \n",
       "889           889         1       1      0      0  30.0000      1         1   \n",
       "890           890         0       3      0      0   7.7500      1         1   \n",
       "\n",
       "     embark_town_Queenstown  embark_town_Southampton  baseline  \n",
       "0                         0                        1         0  \n",
       "1                         0                        0         0  \n",
       "2                         0                        1         0  \n",
       "3                         0                        1         0  \n",
       "4                         0                        1         0  \n",
       "..                      ...                      ...       ...  \n",
       "886                       0                        1         0  \n",
       "887                       0                        1         0  \n",
       "888                       0                        1         0  \n",
       "889                       0                        0         0  \n",
       "890                       1                        0         0  \n",
       "\n",
       "[891 rows x 11 columns]"
      ]
     },
     "execution_count": 4,
     "metadata": {},
     "output_type": "execute_result"
    }
   ],
   "source": [
    "titanic_df['baseline'] = 0\n",
    "titanic_df"
   ]
  },
  {
   "cell_type": "code",
   "execution_count": 5,
   "id": "d71d3abe",
   "metadata": {},
   "outputs": [],
   "source": [
    "train_titanic, validate_titanic, test_titanic = split_data_titanic(titanic_df)"
   ]
  },
  {
   "cell_type": "code",
   "execution_count": 6,
   "id": "64cc3877",
   "metadata": {
    "scrolled": true
   },
   "outputs": [
    {
     "data": {
      "text/html": [
       "<div>\n",
       "<style scoped>\n",
       "    .dataframe tbody tr th:only-of-type {\n",
       "        vertical-align: middle;\n",
       "    }\n",
       "\n",
       "    .dataframe tbody tr th {\n",
       "        vertical-align: top;\n",
       "    }\n",
       "\n",
       "    .dataframe thead th {\n",
       "        text-align: right;\n",
       "    }\n",
       "</style>\n",
       "<table border=\"1\" class=\"dataframe\">\n",
       "  <thead>\n",
       "    <tr style=\"text-align: right;\">\n",
       "      <th></th>\n",
       "      <th>passenger_id</th>\n",
       "      <th>survived</th>\n",
       "      <th>pclass</th>\n",
       "      <th>sibsp</th>\n",
       "      <th>parch</th>\n",
       "      <th>fare</th>\n",
       "      <th>alone</th>\n",
       "      <th>sex_male</th>\n",
       "      <th>embark_town_Queenstown</th>\n",
       "      <th>embark_town_Southampton</th>\n",
       "      <th>baseline</th>\n",
       "    </tr>\n",
       "  </thead>\n",
       "  <tbody>\n",
       "    <tr>\n",
       "      <th>455</th>\n",
       "      <td>455</td>\n",
       "      <td>1</td>\n",
       "      <td>3</td>\n",
       "      <td>0</td>\n",
       "      <td>0</td>\n",
       "      <td>7.8958</td>\n",
       "      <td>1</td>\n",
       "      <td>1</td>\n",
       "      <td>0</td>\n",
       "      <td>0</td>\n",
       "      <td>0</td>\n",
       "    </tr>\n",
       "    <tr>\n",
       "      <th>380</th>\n",
       "      <td>380</td>\n",
       "      <td>1</td>\n",
       "      <td>1</td>\n",
       "      <td>0</td>\n",
       "      <td>0</td>\n",
       "      <td>227.5250</td>\n",
       "      <td>1</td>\n",
       "      <td>0</td>\n",
       "      <td>0</td>\n",
       "      <td>0</td>\n",
       "      <td>0</td>\n",
       "    </tr>\n",
       "    <tr>\n",
       "      <th>492</th>\n",
       "      <td>492</td>\n",
       "      <td>0</td>\n",
       "      <td>1</td>\n",
       "      <td>0</td>\n",
       "      <td>0</td>\n",
       "      <td>30.5000</td>\n",
       "      <td>1</td>\n",
       "      <td>1</td>\n",
       "      <td>0</td>\n",
       "      <td>1</td>\n",
       "      <td>0</td>\n",
       "    </tr>\n",
       "    <tr>\n",
       "      <th>55</th>\n",
       "      <td>55</td>\n",
       "      <td>1</td>\n",
       "      <td>1</td>\n",
       "      <td>0</td>\n",
       "      <td>0</td>\n",
       "      <td>35.5000</td>\n",
       "      <td>1</td>\n",
       "      <td>1</td>\n",
       "      <td>0</td>\n",
       "      <td>1</td>\n",
       "      <td>0</td>\n",
       "    </tr>\n",
       "    <tr>\n",
       "      <th>243</th>\n",
       "      <td>243</td>\n",
       "      <td>0</td>\n",
       "      <td>3</td>\n",
       "      <td>0</td>\n",
       "      <td>0</td>\n",
       "      <td>7.1250</td>\n",
       "      <td>1</td>\n",
       "      <td>1</td>\n",
       "      <td>0</td>\n",
       "      <td>1</td>\n",
       "      <td>0</td>\n",
       "    </tr>\n",
       "  </tbody>\n",
       "</table>\n",
       "</div>"
      ],
      "text/plain": [
       "     passenger_id  survived  pclass  sibsp  parch      fare  alone  sex_male  \\\n",
       "455           455         1       3      0      0    7.8958      1         1   \n",
       "380           380         1       1      0      0  227.5250      1         0   \n",
       "492           492         0       1      0      0   30.5000      1         1   \n",
       "55             55         1       1      0      0   35.5000      1         1   \n",
       "243           243         0       3      0      0    7.1250      1         1   \n",
       "\n",
       "     embark_town_Queenstown  embark_town_Southampton  baseline  \n",
       "455                       0                        0         0  \n",
       "380                       0                        0         0  \n",
       "492                       0                        1         0  \n",
       "55                        0                        1         0  \n",
       "243                       0                        1         0  "
      ]
     },
     "execution_count": 6,
     "metadata": {},
     "output_type": "execute_result"
    }
   ],
   "source": [
    "train_titanic.head()"
   ]
  },
  {
   "cell_type": "code",
   "execution_count": 7,
   "id": "70f69186",
   "metadata": {},
   "outputs": [
    {
     "name": "stdout",
     "output_type": "stream",
     "text": [
      "Baseline Accuracy 0.6161048689138576\n"
     ]
    }
   ],
   "source": [
    "print('Baseline Accuracy', accuracy_score(train_titanic.survived, train_titanic.baseline))"
   ]
  },
  {
   "cell_type": "markdown",
   "id": "c69965ad",
   "metadata": {},
   "source": [
    "### Fit the decision tree classifier to your training sample and transform (i.e. make predictions on the training sample)"
   ]
  },
  {
   "cell_type": "code",
   "execution_count": 9,
   "id": "e16b046b",
   "metadata": {},
   "outputs": [],
   "source": [
    "X_cols = ['pclass', 'alone', 'embark_town_Queenstown', 'embark_town_Southampton']"
   ]
  },
  {
   "cell_type": "code",
   "execution_count": 10,
   "id": "da662313",
   "metadata": {},
   "outputs": [],
   "source": [
    "x_train_titanic = train_titanic[X_cols]\n",
    "y_train_titanic = train_titanic.survived\n",
    "\n",
    "X_validate_titanic = validate_titanic[X_cols]\n",
    "y_validate_titanic = validate_titanic.survived\n",
    "\n",
    "X_test_titanic = test_titanic[X_cols]\n",
    "y_test_titanic = test_titanic.survived"
   ]
  },
  {
   "cell_type": "code",
   "execution_count": 11,
   "id": "7e818f08",
   "metadata": {},
   "outputs": [
    {
     "data": {
      "text/plain": [
       "passenger_id                 int64\n",
       "survived                     int64\n",
       "pclass                       int64\n",
       "sibsp                        int64\n",
       "parch                        int64\n",
       "fare                       float64\n",
       "alone                        int64\n",
       "sex_male                     uint8\n",
       "embark_town_Queenstown       uint8\n",
       "embark_town_Southampton      uint8\n",
       "baseline                     int64\n",
       "dtype: object"
      ]
     },
     "execution_count": 11,
     "metadata": {},
     "output_type": "execute_result"
    }
   ],
   "source": [
    "train_titanic.dtypes"
   ]
  },
  {
   "cell_type": "code",
   "execution_count": 36,
   "id": "3ee680c8",
   "metadata": {},
   "outputs": [],
   "source": [
    "model1 = DecisionTreeClassifier(max_depth=3, random_state=123)\n",
    "model1 = model1.fit(x_train_titanic, y_train_titanic)"
   ]
  },
  {
   "cell_type": "code",
   "execution_count": 37,
   "id": "485b9559",
   "metadata": {},
   "outputs": [
    {
     "data": {
      "text/plain": [
       "array([0, 1, 1, 1, 0])"
      ]
     },
     "execution_count": 37,
     "metadata": {},
     "output_type": "execute_result"
    }
   ],
   "source": [
    "y_pred = model1.predict(x_train_titanic)\n",
    "y_pred[0:5]"
   ]
  },
  {
   "cell_type": "code",
   "execution_count": 38,
   "id": "0a67eaea",
   "metadata": {
    "scrolled": true
   },
   "outputs": [
    {
     "data": {
      "text/plain": [
       "array([[0.62711864, 0.37288136],\n",
       "       [0.46153846, 0.53846154],\n",
       "       [0.46153846, 0.53846154],\n",
       "       [0.46153846, 0.53846154],\n",
       "       [0.85416667, 0.14583333]])"
      ]
     },
     "execution_count": 38,
     "metadata": {},
     "output_type": "execute_result"
    }
   ],
   "source": [
    "y_pred_proba = model1.predict_proba(x_train_titanic)\n",
    "y_pred_proba[0:5]"
   ]
  },
  {
   "cell_type": "code",
   "execution_count": 39,
   "id": "8c31ea52",
   "metadata": {
    "scrolled": true
   },
   "outputs": [
    {
     "name": "stdout",
     "output_type": "stream",
     "text": [
      "training score: 70.04%\n",
      "validate score: 69.66%\n"
     ]
    }
   ],
   "source": [
    "print(f'training score: {model1.score(x_train_titanic, y_train_titanic):.2%}')\n",
    "print(f'validate score: {model1.score(X_validate_titanic, y_validate_titanic):.2%}')"
   ]
  },
  {
   "cell_type": "code",
   "execution_count": 40,
   "id": "8bfbe3db",
   "metadata": {},
   "outputs": [
    {
     "data": {
      "image/png": "[encoded data removed]",
      "text/plain": [
       "<Figure size 1728x864 with 1 Axes>"
      ]
     },
     "metadata": {
      "needs_background": "light"
     },
     "output_type": "display_data"
    }
   ],
   "source": [
    "plt.figure(figsize=(24,12))\n",
    "plot_tree(model1, feature_names=x_train_titanic.columns.to_list(), class_names=['perished', 'survived']);"
   ]
  },
  {
   "cell_type": "markdown",
   "id": "054fc4ae",
   "metadata": {},
   "source": [
    "### Evaluate your in-sample results using the model score, confusion matrix, and classification report."
   ]
  },
  {
   "cell_type": "code",
   "execution_count": 41,
   "id": "f8d4acab",
   "metadata": {},
   "outputs": [
    {
     "name": "stdout",
     "output_type": "stream",
     "text": [
      "training score: 70.04%\n",
      "validate score: 69.66%\n"
     ]
    }
   ],
   "source": [
    "print(f'training score: {model1.score(x_train_titanic, y_train_titanic):.2%}')\n",
    "print(f'validate score: {model1.score(X_validate_titanic, y_validate_titanic):.2%}')"
   ]
  },
  {
   "cell_type": "code",
   "execution_count": 42,
   "id": "966d4b8b",
   "metadata": {},
   "outputs": [
    {
     "data": {
      "text/plain": [
       "array([[89, 21],\n",
       "       [33, 35]])"
      ]
     },
     "execution_count": 42,
     "metadata": {},
     "output_type": "execute_result"
    }
   ],
   "source": [
    "y_pred = model1.predict(X_validate_titanic)\n",
    "confusion_matrix(y_validate_titanic, y_pred)"
   ]
  },
  {
   "cell_type": "code",
   "execution_count": 43,
   "id": "e258c910",
   "metadata": {
    "scrolled": true
   },
   "outputs": [
    {
     "name": "stdout",
     "output_type": "stream",
     "text": [
      "              precision    recall  f1-score   support\n",
      "\n",
      "           0       0.73      0.81      0.77       110\n",
      "           1       0.62      0.51      0.56        68\n",
      "\n",
      "    accuracy                           0.70       178\n",
      "   macro avg       0.68      0.66      0.67       178\n",
      "weighted avg       0.69      0.70      0.69       178\n",
      "\n"
     ]
    }
   ],
   "source": [
    "print(classification_report(y_validate_titanic, y_pred))\n"
   ]
  },
  {
   "cell_type": "markdown",
   "id": "1ed50f8a",
   "metadata": {},
   "source": [
    "### Compute: Accuracy, true positive rate, false positive rate, true negative rate, false negative rate, precision, recall, f1-score, and support."
   ]
  },
  {
   "cell_type": "code",
   "execution_count": 44,
   "id": "cbca50c8",
   "metadata": {},
   "outputs": [
    {
     "name": "stdout",
     "output_type": "stream",
     "text": [
      "              precision    recall  f1-score   support\n",
      "\n",
      "           0       0.73      0.81      0.77       110\n",
      "           1       0.62      0.51      0.56        68\n",
      "\n",
      "    accuracy                           0.70       178\n",
      "   macro avg       0.68      0.66      0.67       178\n",
      "weighted avg       0.69      0.70      0.69       178\n",
      "\n"
     ]
    }
   ],
   "source": [
    "print(classification_report(y_validate_titanic, y_pred))\n"
   ]
  },
  {
   "cell_type": "code",
   "execution_count": 45,
   "id": "d224f965",
   "metadata": {},
   "outputs": [
    {
     "data": {
      "text/plain": [
       "0.6966292134831461"
      ]
     },
     "execution_count": 45,
     "metadata": {},
     "output_type": "execute_result"
    }
   ],
   "source": [
    "accuracy_score(y_validate_titanic, y_pred)"
   ]
  },
  {
   "cell_type": "code",
   "execution_count": 46,
   "id": "11b5399f",
   "metadata": {},
   "outputs": [
    {
     "data": {
      "text/plain": [
       "array([[89, 21],\n",
       "       [33, 35]])"
      ]
     },
     "execution_count": 46,
     "metadata": {},
     "output_type": "execute_result"
    }
   ],
   "source": [
    "confusion_matrix(y_validate_titanic, y_pred)"
   ]
  },
  {
   "cell_type": "code",
   "execution_count": 47,
   "id": "845a50f0",
   "metadata": {},
   "outputs": [],
   "source": [
    "TN = 89\n",
    "FP = 21\n",
    "FN = 33\n",
    "TP = 35"
   ]
  },
  {
   "cell_type": "code",
   "execution_count": 48,
   "id": "70acf431",
   "metadata": {},
   "outputs": [],
   "source": [
    "# Recall or true positive rate\n",
    "TPR = TP/(TP+FN)\n",
    "# Specificity or true negative rate\n",
    "TNR = TN/(TN+FP) \n",
    "# Negative predictive value\n",
    "NPV = TN/(TN+FN)\n",
    "# Fall out or false positive rate\n",
    "FPR = FP/(FP+TN)\n",
    "# False negative rate\n",
    "FNR = FN/(TP+FN)"
   ]
  },
  {
   "cell_type": "code",
   "execution_count": 49,
   "id": "59f6de1d",
   "metadata": {},
   "outputs": [
    {
     "name": "stdout",
     "output_type": "stream",
     "text": [
      "TPR 0.51\n",
      "FPR 0.19\n",
      "TNR 0.81\n",
      "FNR 0.49\n"
     ]
    }
   ],
   "source": [
    "print('TPR', round(TPR, 2))\n",
    "print('FPR', round(FPR, 2))\n",
    "print('TNR', round(TNR, 2))\n",
    "print('FNR', round(FNR, 2))"
   ]
  },
  {
   "cell_type": "markdown",
   "id": "b5c22441",
   "metadata": {},
   "source": [
    "### Run through steps 2-4 using a different max_depth value.\n",
    "\n"
   ]
  },
  {
   "cell_type": "code",
   "execution_count": 56,
   "id": "18622958",
   "metadata": {},
   "outputs": [
    {
     "name": "stdout",
     "output_type": "stream",
     "text": [
      "training score: 70.22%\n",
      "validate score: 68.54%\n"
     ]
    },
    {
     "data": {
      "text/plain": [
       "array([[87, 23],\n",
       "       [33, 35]])"
      ]
     },
     "execution_count": 56,
     "metadata": {},
     "output_type": "execute_result"
    }
   ],
   "source": [
    "model2 = DecisionTreeClassifier(max_depth=10, random_state=123)\n",
    "model2 = model2.fit(x_train_titanic, y_train_titanic)\n",
    "y_pred = model2.predict(x_train_titanic)\n",
    "y_pred_proba = model2.predict_proba(x_train_titanic)\n",
    "print(f'training score: {model2.score(x_train_titanic, y_train_titanic):.2%}')\n",
    "print(f'validate score: {model2.score(X_validate_titanic, y_validate_titanic):.2%}')\n",
    "y_pred = model2.predict(X_validate_titanic)\n",
    "confusion_matrix(y_validate_titanic, y_pred)"
   ]
  },
  {
   "cell_type": "code",
   "execution_count": 52,
   "id": "e948ca6b",
   "metadata": {},
   "outputs": [
    {
     "data": {
      "image/png": "[encoded data removed]",
      "text/plain": [
       "<Figure size 1728x864 with 1 Axes>"
      ]
     },
     "metadata": {
      "needs_background": "light"
     },
     "output_type": "display_data"
    }
   ],
   "source": [
    "plt.figure(figsize=(24,12))\n",
    "plot_tree(model2, feature_names=x_train_titanic.columns.to_list(), class_names=['perished', 'survived']);"
   ]
  },
  {
   "cell_type": "code",
   "execution_count": 57,
   "id": "3b45037a",
   "metadata": {},
   "outputs": [],
   "source": [
    "TN = 87\n",
    "FP = 23\n",
    "FN = 33\n",
    "TP = 35\n",
    "# Recall or true positive rate\n",
    "TPR = TP/(TP+FN)\n",
    "# Specificity or true negative rate\n",
    "TNR = TN/(TN+FP) \n",
    "# Negative predictive value\n",
    "NPV = TN/(TN+FN)\n",
    "# Fall out or false positive rate\n",
    "FPR = FP/(FP+TN)\n",
    "# False negative rate\n",
    "FNR = FN/(TP+FN)"
   ]
  },
  {
   "cell_type": "code",
   "execution_count": 58,
   "id": "52a98a8b",
   "metadata": {},
   "outputs": [
    {
     "name": "stdout",
     "output_type": "stream",
     "text": [
      "TPR 0.51\n",
      "FPR 0.21\n",
      "TNR 0.79\n",
      "FNR 0.49\n"
     ]
    }
   ],
   "source": [
    "print('TPR', round(TPR, 2))\n",
    "print('FPR', round(FPR, 2))\n",
    "print('TNR', round(TNR, 2))\n",
    "print('FNR', round(FNR, 2))"
   ]
  },
  {
   "cell_type": "code",
   "execution_count": 59,
   "id": "1102daee",
   "metadata": {},
   "outputs": [
    {
     "name": "stdout",
     "output_type": "stream",
     "text": [
      "model 1 training score: 70.04%\n",
      "model 1 validate score: 69.66%\n",
      "model 2 training score: 70.22%\n",
      "model 2 validate score: 68.54%\n"
     ]
    }
   ],
   "source": [
    "print(f'model 1 training score: {model1.score(x_train_titanic, y_train_titanic):.2%}')\n",
    "print(f'model 1 validate score: {model1.score(X_validate_titanic, y_validate_titanic):.2%}')\n",
    "print(f'model 2 training score: {model2.score(x_train_titanic, y_train_titanic):.2%}')\n",
    "print(f'model 2 validate score: {model2.score(X_validate_titanic, y_validate_titanic):.2%}')"
   ]
  },
  {
   "cell_type": "markdown",
   "id": "08e6e456",
   "metadata": {},
   "source": [
    "- Model 1 performed better in the validate set\n",
    "- Model 2 performed better in the train set"
   ]
  },
  {
   "cell_type": "markdown",
   "id": "c5a27a5c",
   "metadata": {},
   "source": [
    "## Work through these same exercises using the Telco dataset.\n"
   ]
  },
  {
   "cell_type": "code",
   "execution_count": 60,
   "id": "67ecd3aa",
   "metadata": {},
   "outputs": [],
   "source": [
    "telco_df = acquire.get_telco_data()\n",
    "def prep_telco(telco_df):\n",
    "    telco_df = telco_df.T.drop_duplicates().T\n",
    "    dummy_telco_df = pd.get_dummies(telco_df[['gender','contract_type','internet_service_type']], dummy_na=False, drop_first=[True, False, False])\n",
    "    telco_df = pd.concat([telco_df, dummy_telco_df], axis=1)\n",
    "    telco_df.senior_citizen = telco_df.senior_citizen.astype('int')\n",
    "    telco_df.tenure = telco_df.tenure.astype('int')\n",
    "    telco_df.monthly_charges = telco_df.monthly_charges.astype('float')\n",
    "    telco_df.partner = telco_df.partner.map(dict(Yes=1, No=0))\n",
    "    telco_df.dependents = telco_df.dependents.map(dict(Yes=1, No=0))\n",
    "    telco_df.phone_service = telco_df.phone_service.map(dict(Yes=1, No=0))\n",
    "    telco_df.paperless_billing = telco_df.paperless_billing.map(dict(Yes=1, No=0))\n",
    "    telco_df.churn = telco_df.churn.map(dict(Yes=1, No=0))\n",
    "    cols_to_drop = ['internet_service_type_id', 'contract_type_id', 'payment_type_id', 'gender']\n",
    "    telco_df = telco_df.drop(columns=cols_to_drop)\n",
    "    telco_df.total_charges = telco_df.total_charges.str.replace(' ', '0')\n",
    "    telco_df.total_charges = telco_df.total_charges.astype('float')\n",
    "    return telco_df\n",
    "def split_data_telco(telco_df):\n",
    "    train_telco, test_telco = train_test_split(telco_df, test_size=.2, random_state=123, stratify=telco_df.churn)\n",
    "    train_telco, validate_telco = train_test_split(train_telco, test_size=.25, random_state=123, stratify=train_telco.churn)\n",
    "    return train_telco, validate_telco, test_telco"
   ]
  },
  {
   "cell_type": "code",
   "execution_count": null,
   "id": "153d9319",
   "metadata": {},
   "outputs": [],
   "source": [
    "telco_df = prep_telco(telco_df)"
   ]
  },
  {
   "cell_type": "code",
   "execution_count": 64,
   "id": "db9b48d9",
   "metadata": {},
   "outputs": [
    {
     "data": {
      "text/plain": [
       "0    5174\n",
       "1    1869\n",
       "Name: churn, dtype: int64"
      ]
     },
     "execution_count": 64,
     "metadata": {},
     "output_type": "execute_result"
    }
   ],
   "source": [
    "telco_df.churn.value_counts()"
   ]
  },
  {
   "cell_type": "code",
   "execution_count": 62,
   "id": "82d4509f",
   "metadata": {},
   "outputs": [
    {
     "data": {
      "text/html": [
       "<div>\n",
       "<style scoped>\n",
       "    .dataframe tbody tr th:only-of-type {\n",
       "        vertical-align: middle;\n",
       "    }\n",
       "\n",
       "    .dataframe tbody tr th {\n",
       "        vertical-align: top;\n",
       "    }\n",
       "\n",
       "    .dataframe thead th {\n",
       "        text-align: right;\n",
       "    }\n",
       "</style>\n",
       "<table border=\"1\" class=\"dataframe\">\n",
       "  <thead>\n",
       "    <tr style=\"text-align: right;\">\n",
       "      <th></th>\n",
       "      <th>customer_id</th>\n",
       "      <th>senior_citizen</th>\n",
       "      <th>partner</th>\n",
       "      <th>dependents</th>\n",
       "      <th>tenure</th>\n",
       "      <th>phone_service</th>\n",
       "      <th>multiple_lines</th>\n",
       "      <th>online_security</th>\n",
       "      <th>online_backup</th>\n",
       "      <th>device_protection</th>\n",
       "      <th>...</th>\n",
       "      <th>total_charges</th>\n",
       "      <th>churn</th>\n",
       "      <th>contract_type</th>\n",
       "      <th>internet_service_type</th>\n",
       "      <th>gender_Male</th>\n",
       "      <th>contract_type_One year</th>\n",
       "      <th>contract_type_Two year</th>\n",
       "      <th>internet_service_type_Fiber optic</th>\n",
       "      <th>internet_service_type_None</th>\n",
       "      <th>baseline</th>\n",
       "    </tr>\n",
       "  </thead>\n",
       "  <tbody>\n",
       "    <tr>\n",
       "      <th>0</th>\n",
       "      <td>0002-ORFBO</td>\n",
       "      <td>0</td>\n",
       "      <td>1</td>\n",
       "      <td>1</td>\n",
       "      <td>9</td>\n",
       "      <td>1</td>\n",
       "      <td>No</td>\n",
       "      <td>No</td>\n",
       "      <td>Yes</td>\n",
       "      <td>No</td>\n",
       "      <td>...</td>\n",
       "      <td>593.30</td>\n",
       "      <td>0</td>\n",
       "      <td>One year</td>\n",
       "      <td>DSL</td>\n",
       "      <td>0</td>\n",
       "      <td>1</td>\n",
       "      <td>0</td>\n",
       "      <td>0</td>\n",
       "      <td>0</td>\n",
       "      <td>0</td>\n",
       "    </tr>\n",
       "    <tr>\n",
       "      <th>1</th>\n",
       "      <td>0003-MKNFE</td>\n",
       "      <td>0</td>\n",
       "      <td>0</td>\n",
       "      <td>0</td>\n",
       "      <td>9</td>\n",
       "      <td>1</td>\n",
       "      <td>Yes</td>\n",
       "      <td>No</td>\n",
       "      <td>No</td>\n",
       "      <td>No</td>\n",
       "      <td>...</td>\n",
       "      <td>542.40</td>\n",
       "      <td>0</td>\n",
       "      <td>Month-to-month</td>\n",
       "      <td>DSL</td>\n",
       "      <td>1</td>\n",
       "      <td>0</td>\n",
       "      <td>0</td>\n",
       "      <td>0</td>\n",
       "      <td>0</td>\n",
       "      <td>0</td>\n",
       "    </tr>\n",
       "    <tr>\n",
       "      <th>2</th>\n",
       "      <td>0004-TLHLJ</td>\n",
       "      <td>0</td>\n",
       "      <td>0</td>\n",
       "      <td>0</td>\n",
       "      <td>4</td>\n",
       "      <td>1</td>\n",
       "      <td>No</td>\n",
       "      <td>No</td>\n",
       "      <td>No</td>\n",
       "      <td>Yes</td>\n",
       "      <td>...</td>\n",
       "      <td>280.85</td>\n",
       "      <td>1</td>\n",
       "      <td>Month-to-month</td>\n",
       "      <td>Fiber optic</td>\n",
       "      <td>1</td>\n",
       "      <td>0</td>\n",
       "      <td>0</td>\n",
       "      <td>1</td>\n",
       "      <td>0</td>\n",
       "      <td>0</td>\n",
       "    </tr>\n",
       "    <tr>\n",
       "      <th>3</th>\n",
       "      <td>0011-IGKFF</td>\n",
       "      <td>1</td>\n",
       "      <td>1</td>\n",
       "      <td>0</td>\n",
       "      <td>13</td>\n",
       "      <td>1</td>\n",
       "      <td>No</td>\n",
       "      <td>No</td>\n",
       "      <td>Yes</td>\n",
       "      <td>Yes</td>\n",
       "      <td>...</td>\n",
       "      <td>1237.85</td>\n",
       "      <td>1</td>\n",
       "      <td>Month-to-month</td>\n",
       "      <td>Fiber optic</td>\n",
       "      <td>1</td>\n",
       "      <td>0</td>\n",
       "      <td>0</td>\n",
       "      <td>1</td>\n",
       "      <td>0</td>\n",
       "      <td>0</td>\n",
       "    </tr>\n",
       "    <tr>\n",
       "      <th>4</th>\n",
       "      <td>0013-EXCHZ</td>\n",
       "      <td>1</td>\n",
       "      <td>1</td>\n",
       "      <td>0</td>\n",
       "      <td>3</td>\n",
       "      <td>1</td>\n",
       "      <td>No</td>\n",
       "      <td>No</td>\n",
       "      <td>No</td>\n",
       "      <td>No</td>\n",
       "      <td>...</td>\n",
       "      <td>267.40</td>\n",
       "      <td>1</td>\n",
       "      <td>Month-to-month</td>\n",
       "      <td>Fiber optic</td>\n",
       "      <td>0</td>\n",
       "      <td>0</td>\n",
       "      <td>0</td>\n",
       "      <td>1</td>\n",
       "      <td>0</td>\n",
       "      <td>0</td>\n",
       "    </tr>\n",
       "    <tr>\n",
       "      <th>...</th>\n",
       "      <td>...</td>\n",
       "      <td>...</td>\n",
       "      <td>...</td>\n",
       "      <td>...</td>\n",
       "      <td>...</td>\n",
       "      <td>...</td>\n",
       "      <td>...</td>\n",
       "      <td>...</td>\n",
       "      <td>...</td>\n",
       "      <td>...</td>\n",
       "      <td>...</td>\n",
       "      <td>...</td>\n",
       "      <td>...</td>\n",
       "      <td>...</td>\n",
       "      <td>...</td>\n",
       "      <td>...</td>\n",
       "      <td>...</td>\n",
       "      <td>...</td>\n",
       "      <td>...</td>\n",
       "      <td>...</td>\n",
       "      <td>...</td>\n",
       "    </tr>\n",
       "    <tr>\n",
       "      <th>7038</th>\n",
       "      <td>9282-IZGQK</td>\n",
       "      <td>0</td>\n",
       "      <td>0</td>\n",
       "      <td>0</td>\n",
       "      <td>1</td>\n",
       "      <td>1</td>\n",
       "      <td>Yes</td>\n",
       "      <td>No</td>\n",
       "      <td>No</td>\n",
       "      <td>No</td>\n",
       "      <td>...</td>\n",
       "      <td>85.00</td>\n",
       "      <td>1</td>\n",
       "      <td>Month-to-month</td>\n",
       "      <td>Fiber optic</td>\n",
       "      <td>0</td>\n",
       "      <td>0</td>\n",
       "      <td>0</td>\n",
       "      <td>1</td>\n",
       "      <td>0</td>\n",
       "      <td>0</td>\n",
       "    </tr>\n",
       "    <tr>\n",
       "      <th>7039</th>\n",
       "      <td>9462-MJUAW</td>\n",
       "      <td>0</td>\n",
       "      <td>0</td>\n",
       "      <td>0</td>\n",
       "      <td>4</td>\n",
       "      <td>1</td>\n",
       "      <td>Yes</td>\n",
       "      <td>No</td>\n",
       "      <td>No</td>\n",
       "      <td>No</td>\n",
       "      <td>...</td>\n",
       "      <td>206.60</td>\n",
       "      <td>1</td>\n",
       "      <td>Month-to-month</td>\n",
       "      <td>DSL</td>\n",
       "      <td>1</td>\n",
       "      <td>0</td>\n",
       "      <td>0</td>\n",
       "      <td>0</td>\n",
       "      <td>0</td>\n",
       "      <td>0</td>\n",
       "    </tr>\n",
       "    <tr>\n",
       "      <th>7040</th>\n",
       "      <td>9705-ZJBCG</td>\n",
       "      <td>0</td>\n",
       "      <td>1</td>\n",
       "      <td>1</td>\n",
       "      <td>13</td>\n",
       "      <td>1</td>\n",
       "      <td>No</td>\n",
       "      <td>Yes</td>\n",
       "      <td>No</td>\n",
       "      <td>No</td>\n",
       "      <td>...</td>\n",
       "      <td>701.05</td>\n",
       "      <td>0</td>\n",
       "      <td>One year</td>\n",
       "      <td>DSL</td>\n",
       "      <td>0</td>\n",
       "      <td>1</td>\n",
       "      <td>0</td>\n",
       "      <td>0</td>\n",
       "      <td>0</td>\n",
       "      <td>0</td>\n",
       "    </tr>\n",
       "    <tr>\n",
       "      <th>7041</th>\n",
       "      <td>9777-IQHWP</td>\n",
       "      <td>0</td>\n",
       "      <td>1</td>\n",
       "      <td>1</td>\n",
       "      <td>64</td>\n",
       "      <td>1</td>\n",
       "      <td>Yes</td>\n",
       "      <td>Yes</td>\n",
       "      <td>No</td>\n",
       "      <td>Yes</td>\n",
       "      <td>...</td>\n",
       "      <td>5822.30</td>\n",
       "      <td>0</td>\n",
       "      <td>Two year</td>\n",
       "      <td>Fiber optic</td>\n",
       "      <td>1</td>\n",
       "      <td>0</td>\n",
       "      <td>1</td>\n",
       "      <td>1</td>\n",
       "      <td>0</td>\n",
       "      <td>0</td>\n",
       "    </tr>\n",
       "    <tr>\n",
       "      <th>7042</th>\n",
       "      <td>9809-IMGCQ</td>\n",
       "      <td>1</td>\n",
       "      <td>0</td>\n",
       "      <td>0</td>\n",
       "      <td>22</td>\n",
       "      <td>1</td>\n",
       "      <td>Yes</td>\n",
       "      <td>No</td>\n",
       "      <td>No</td>\n",
       "      <td>No</td>\n",
       "      <td>...</td>\n",
       "      <td>2082.95</td>\n",
       "      <td>1</td>\n",
       "      <td>Month-to-month</td>\n",
       "      <td>Fiber optic</td>\n",
       "      <td>1</td>\n",
       "      <td>0</td>\n",
       "      <td>0</td>\n",
       "      <td>1</td>\n",
       "      <td>0</td>\n",
       "      <td>0</td>\n",
       "    </tr>\n",
       "  </tbody>\n",
       "</table>\n",
       "<p>7043 rows × 25 columns</p>\n",
       "</div>"
      ],
      "text/plain": [
       "     customer_id  senior_citizen  partner  dependents  tenure  phone_service  \\\n",
       "0     0002-ORFBO               0        1           1       9              1   \n",
       "1     0003-MKNFE               0        0           0       9              1   \n",
       "2     0004-TLHLJ               0        0           0       4              1   \n",
       "3     0011-IGKFF               1        1           0      13              1   \n",
       "4     0013-EXCHZ               1        1           0       3              1   \n",
       "...          ...             ...      ...         ...     ...            ...   \n",
       "7038  9282-IZGQK               0        0           0       1              1   \n",
       "7039  9462-MJUAW               0        0           0       4              1   \n",
       "7040  9705-ZJBCG               0        1           1      13              1   \n",
       "7041  9777-IQHWP               0        1           1      64              1   \n",
       "7042  9809-IMGCQ               1        0           0      22              1   \n",
       "\n",
       "     multiple_lines online_security online_backup device_protection  ...  \\\n",
       "0                No              No           Yes                No  ...   \n",
       "1               Yes              No            No                No  ...   \n",
       "2                No              No            No               Yes  ...   \n",
       "3                No              No           Yes               Yes  ...   \n",
       "4                No              No            No                No  ...   \n",
       "...             ...             ...           ...               ...  ...   \n",
       "7038            Yes              No            No                No  ...   \n",
       "7039            Yes              No            No                No  ...   \n",
       "7040             No             Yes            No                No  ...   \n",
       "7041            Yes             Yes            No               Yes  ...   \n",
       "7042            Yes              No            No                No  ...   \n",
       "\n",
       "     total_charges churn   contract_type  internet_service_type  gender_Male  \\\n",
       "0           593.30     0        One year                    DSL            0   \n",
       "1           542.40     0  Month-to-month                    DSL            1   \n",
       "2           280.85     1  Month-to-month            Fiber optic            1   \n",
       "3          1237.85     1  Month-to-month            Fiber optic            1   \n",
       "4           267.40     1  Month-to-month            Fiber optic            0   \n",
       "...            ...   ...             ...                    ...          ...   \n",
       "7038         85.00     1  Month-to-month            Fiber optic            0   \n",
       "7039        206.60     1  Month-to-month                    DSL            1   \n",
       "7040        701.05     0        One year                    DSL            0   \n",
       "7041       5822.30     0        Two year            Fiber optic            1   \n",
       "7042       2082.95     1  Month-to-month            Fiber optic            1   \n",
       "\n",
       "      contract_type_One year  contract_type_Two year  \\\n",
       "0                          1                       0   \n",
       "1                          0                       0   \n",
       "2                          0                       0   \n",
       "3                          0                       0   \n",
       "4                          0                       0   \n",
       "...                      ...                     ...   \n",
       "7038                       0                       0   \n",
       "7039                       0                       0   \n",
       "7040                       1                       0   \n",
       "7041                       0                       1   \n",
       "7042                       0                       0   \n",
       "\n",
       "     internet_service_type_Fiber optic internet_service_type_None  baseline  \n",
       "0                                    0                          0         0  \n",
       "1                                    0                          0         0  \n",
       "2                                    1                          0         0  \n",
       "3                                    1                          0         0  \n",
       "4                                    1                          0         0  \n",
       "...                                ...                        ...       ...  \n",
       "7038                                 1                          0         0  \n",
       "7039                                 0                          0         0  \n",
       "7040                                 0                          0         0  \n",
       "7041                                 1                          0         0  \n",
       "7042                                 1                          0         0  \n",
       "\n",
       "[7043 rows x 25 columns]"
      ]
     },
     "execution_count": 62,
     "metadata": {},
     "output_type": "execute_result"
    }
   ],
   "source": [
    "telco_df['baseline'] = 0\n",
    "telco_df"
   ]
  },
  {
   "cell_type": "code",
   "execution_count": 66,
   "id": "83d3d2ca",
   "metadata": {},
   "outputs": [
    {
     "data": {
      "text/html": [
       "<div>\n",
       "<style scoped>\n",
       "    .dataframe tbody tr th:only-of-type {\n",
       "        vertical-align: middle;\n",
       "    }\n",
       "\n",
       "    .dataframe tbody tr th {\n",
       "        vertical-align: top;\n",
       "    }\n",
       "\n",
       "    .dataframe thead th {\n",
       "        text-align: right;\n",
       "    }\n",
       "</style>\n",
       "<table border=\"1\" class=\"dataframe\">\n",
       "  <thead>\n",
       "    <tr style=\"text-align: right;\">\n",
       "      <th></th>\n",
       "      <th>customer_id</th>\n",
       "      <th>senior_citizen</th>\n",
       "      <th>partner</th>\n",
       "      <th>dependents</th>\n",
       "      <th>tenure</th>\n",
       "      <th>phone_service</th>\n",
       "      <th>multiple_lines</th>\n",
       "      <th>online_security</th>\n",
       "      <th>online_backup</th>\n",
       "      <th>device_protection</th>\n",
       "      <th>...</th>\n",
       "      <th>total_charges</th>\n",
       "      <th>churn</th>\n",
       "      <th>contract_type</th>\n",
       "      <th>internet_service_type</th>\n",
       "      <th>gender_Male</th>\n",
       "      <th>contract_type_One year</th>\n",
       "      <th>contract_type_Two year</th>\n",
       "      <th>internet_service_type_Fiber optic</th>\n",
       "      <th>internet_service_type_None</th>\n",
       "      <th>baseline</th>\n",
       "    </tr>\n",
       "  </thead>\n",
       "  <tbody>\n",
       "    <tr>\n",
       "      <th>5894</th>\n",
       "      <td>3472-QPRCH</td>\n",
       "      <td>0</td>\n",
       "      <td>1</td>\n",
       "      <td>1</td>\n",
       "      <td>40</td>\n",
       "      <td>1</td>\n",
       "      <td>Yes</td>\n",
       "      <td>No internet service</td>\n",
       "      <td>No internet service</td>\n",
       "      <td>No internet service</td>\n",
       "      <td>...</td>\n",
       "      <td>1006.90</td>\n",
       "      <td>0</td>\n",
       "      <td>Two year</td>\n",
       "      <td>None</td>\n",
       "      <td>1</td>\n",
       "      <td>0</td>\n",
       "      <td>1</td>\n",
       "      <td>0</td>\n",
       "      <td>1</td>\n",
       "      <td>0</td>\n",
       "    </tr>\n",
       "    <tr>\n",
       "      <th>2440</th>\n",
       "      <td>2676-ISHSF</td>\n",
       "      <td>0</td>\n",
       "      <td>0</td>\n",
       "      <td>0</td>\n",
       "      <td>1</td>\n",
       "      <td>1</td>\n",
       "      <td>No</td>\n",
       "      <td>No internet service</td>\n",
       "      <td>No internet service</td>\n",
       "      <td>No internet service</td>\n",
       "      <td>...</td>\n",
       "      <td>20.30</td>\n",
       "      <td>0</td>\n",
       "      <td>Month-to-month</td>\n",
       "      <td>None</td>\n",
       "      <td>1</td>\n",
       "      <td>0</td>\n",
       "      <td>0</td>\n",
       "      <td>0</td>\n",
       "      <td>1</td>\n",
       "      <td>0</td>\n",
       "    </tr>\n",
       "    <tr>\n",
       "      <th>5995</th>\n",
       "      <td>2157-MXBJS</td>\n",
       "      <td>0</td>\n",
       "      <td>1</td>\n",
       "      <td>0</td>\n",
       "      <td>13</td>\n",
       "      <td>1</td>\n",
       "      <td>Yes</td>\n",
       "      <td>No</td>\n",
       "      <td>No</td>\n",
       "      <td>Yes</td>\n",
       "      <td>...</td>\n",
       "      <td>989.45</td>\n",
       "      <td>1</td>\n",
       "      <td>One year</td>\n",
       "      <td>DSL</td>\n",
       "      <td>1</td>\n",
       "      <td>1</td>\n",
       "      <td>0</td>\n",
       "      <td>0</td>\n",
       "      <td>0</td>\n",
       "      <td>0</td>\n",
       "    </tr>\n",
       "    <tr>\n",
       "      <th>6048</th>\n",
       "      <td>3129-AAQOU</td>\n",
       "      <td>0</td>\n",
       "      <td>1</td>\n",
       "      <td>1</td>\n",
       "      <td>19</td>\n",
       "      <td>1</td>\n",
       "      <td>Yes</td>\n",
       "      <td>No internet service</td>\n",
       "      <td>No internet service</td>\n",
       "      <td>No internet service</td>\n",
       "      <td>...</td>\n",
       "      <td>485.90</td>\n",
       "      <td>0</td>\n",
       "      <td>Two year</td>\n",
       "      <td>None</td>\n",
       "      <td>0</td>\n",
       "      <td>0</td>\n",
       "      <td>1</td>\n",
       "      <td>0</td>\n",
       "      <td>1</td>\n",
       "      <td>0</td>\n",
       "    </tr>\n",
       "    <tr>\n",
       "      <th>785</th>\n",
       "      <td>1142-IHLOO</td>\n",
       "      <td>0</td>\n",
       "      <td>0</td>\n",
       "      <td>0</td>\n",
       "      <td>51</td>\n",
       "      <td>1</td>\n",
       "      <td>No</td>\n",
       "      <td>No</td>\n",
       "      <td>No</td>\n",
       "      <td>No</td>\n",
       "      <td>...</td>\n",
       "      <td>4475.90</td>\n",
       "      <td>0</td>\n",
       "      <td>One year</td>\n",
       "      <td>Fiber optic</td>\n",
       "      <td>0</td>\n",
       "      <td>1</td>\n",
       "      <td>0</td>\n",
       "      <td>1</td>\n",
       "      <td>0</td>\n",
       "      <td>0</td>\n",
       "    </tr>\n",
       "  </tbody>\n",
       "</table>\n",
       "<p>5 rows × 25 columns</p>\n",
       "</div>"
      ],
      "text/plain": [
       "     customer_id  senior_citizen  partner  dependents  tenure  phone_service  \\\n",
       "5894  3472-QPRCH               0        1           1      40              1   \n",
       "2440  2676-ISHSF               0        0           0       1              1   \n",
       "5995  2157-MXBJS               0        1           0      13              1   \n",
       "6048  3129-AAQOU               0        1           1      19              1   \n",
       "785   1142-IHLOO               0        0           0      51              1   \n",
       "\n",
       "     multiple_lines      online_security        online_backup  \\\n",
       "5894            Yes  No internet service  No internet service   \n",
       "2440             No  No internet service  No internet service   \n",
       "5995            Yes                   No                   No   \n",
       "6048            Yes  No internet service  No internet service   \n",
       "785              No                   No                   No   \n",
       "\n",
       "        device_protection  ... total_charges churn   contract_type  \\\n",
       "5894  No internet service  ...       1006.90     0        Two year   \n",
       "2440  No internet service  ...         20.30     0  Month-to-month   \n",
       "5995                  Yes  ...        989.45     1        One year   \n",
       "6048  No internet service  ...        485.90     0        Two year   \n",
       "785                    No  ...       4475.90     0        One year   \n",
       "\n",
       "      internet_service_type  gender_Male  contract_type_One year  \\\n",
       "5894                   None            1                       0   \n",
       "2440                   None            1                       0   \n",
       "5995                    DSL            1                       1   \n",
       "6048                   None            0                       0   \n",
       "785             Fiber optic            0                       1   \n",
       "\n",
       "      contract_type_Two year internet_service_type_Fiber optic  \\\n",
       "5894                       1                                 0   \n",
       "2440                       0                                 0   \n",
       "5995                       0                                 0   \n",
       "6048                       1                                 0   \n",
       "785                        0                                 1   \n",
       "\n",
       "     internet_service_type_None  baseline  \n",
       "5894                          1         0  \n",
       "2440                          1         0  \n",
       "5995                          0         0  \n",
       "6048                          1         0  \n",
       "785                           0         0  \n",
       "\n",
       "[5 rows x 25 columns]"
      ]
     },
     "execution_count": 66,
     "metadata": {},
     "output_type": "execute_result"
    }
   ],
   "source": [
    "train_telco, validate_telco, test_telco = split_data_telco(telco_df)\n",
    "train_telco.head()"
   ]
  },
  {
   "cell_type": "code",
   "execution_count": 67,
   "id": "480f4039",
   "metadata": {},
   "outputs": [
    {
     "name": "stdout",
     "output_type": "stream",
     "text": [
      "Baseline Accuracy 0.7346745562130178\n"
     ]
    }
   ],
   "source": [
    "print('Baseline Accuracy', accuracy_score(train_telco.churn, train_telco.baseline))"
   ]
  },
  {
   "cell_type": "code",
   "execution_count": 72,
   "id": "e4308042",
   "metadata": {},
   "outputs": [],
   "source": [
    "X_cols = ['monthly_charges', 'paperless_billing', 'gender_Male', 'phone_service', 'senior_citizen', 'internet_service_type_Fiber optic']\n",
    "X_train_telco = train_telco[X_cols]\n",
    "y_train_telco = train_telco.churn\n",
    "\n",
    "X_validate_telco = validate_telco[X_cols]\n",
    "y_validate_telco = validate_telco.churn\n",
    "\n",
    "X_test_telco = test_telco[X_cols]\n",
    "y_test_telco = test_telco.churn"
   ]
  },
  {
   "cell_type": "code",
   "execution_count": 74,
   "id": "0a1ff16e",
   "metadata": {},
   "outputs": [
    {
     "name": "stdout",
     "output_type": "stream",
     "text": [
      "training score: 75.64%\n",
      "validate score: 74.73%\n"
     ]
    },
    {
     "data": {
      "text/plain": [
       "array([[961,  74],\n",
       "       [282,  92]])"
      ]
     },
     "execution_count": 74,
     "metadata": {},
     "output_type": "execute_result"
    }
   ],
   "source": [
    "model1 = DecisionTreeClassifier(max_depth=3, random_state=123)\n",
    "model1 = model1.fit(X_train_telco, y_train_telco)\n",
    "y_pred = model1.predict(X_train_telco)\n",
    "y_pred_proba = model1.predict_proba(X_train_telco)\n",
    "print(f'training score: {model1.score(X_train_telco, y_train_telco):.2%}')\n",
    "print(f'validate score: {model1.score(X_validate_telco, y_validate_telco):.2%}')\n",
    "y_pred = model1.predict(X_validate_telco)\n",
    "confusion_matrix(y_validate_telco, y_pred)"
   ]
  },
  {
   "cell_type": "code",
   "execution_count": 76,
   "id": "74b1bef2",
   "metadata": {},
   "outputs": [
    {
     "data": {
      "image/png": "[encoded data removed]",
      "text/plain": [
       "<Figure size 1728x864 with 1 Axes>"
      ]
     },
     "metadata": {
      "needs_background": "light"
     },
     "output_type": "display_data"
    }
   ],
   "source": [
    "plt.figure(figsize=(24,12))\n",
    "plot_tree(model1, feature_names=X_train_telco.columns.to_list(), class_names=['no churn', 'churn']);"
   ]
  },
  {
   "cell_type": "code",
   "execution_count": 77,
   "id": "638a7881",
   "metadata": {},
   "outputs": [],
   "source": [
    "TN = 961\n",
    "FP = 74\n",
    "FN = 282\n",
    "TP = 92\n",
    "# Recall or true positive rate\n",
    "TPR = TP/(TP+FN)\n",
    "# Specificity or true negative rate\n",
    "TNR = TN/(TN+FP) \n",
    "# Negative predictive value\n",
    "NPV = TN/(TN+FN)\n",
    "# Fall out or false positive rate\n",
    "FPR = FP/(FP+TN)\n",
    "# False negative rate\n",
    "FNR = FN/(TP+FN)"
   ]
  },
  {
   "cell_type": "code",
   "execution_count": 78,
   "id": "e9574fba",
   "metadata": {},
   "outputs": [
    {
     "name": "stdout",
     "output_type": "stream",
     "text": [
      "TPR 0.25\n",
      "FPR 0.07\n",
      "TNR 0.93\n",
      "FNR 0.75\n"
     ]
    }
   ],
   "source": [
    "print('TPR', round(TPR, 2))\n",
    "print('FPR', round(FPR, 2))\n",
    "print('TNR', round(TNR, 2))\n",
    "print('FNR', round(FNR, 2))"
   ]
  },
  {
   "cell_type": "code",
   "execution_count": 83,
   "id": "99b52b34",
   "metadata": {},
   "outputs": [
    {
     "name": "stdout",
     "output_type": "stream",
     "text": [
      "training score: 91.74%\n",
      "validate score: 70.19%\n"
     ]
    },
    {
     "data": {
      "text/plain": [
       "array([[861, 174],\n",
       "       [246, 128]])"
      ]
     },
     "execution_count": 83,
     "metadata": {},
     "output_type": "execute_result"
    }
   ],
   "source": [
    "model2 = DecisionTreeClassifier(max_depth=20, random_state=123)\n",
    "model2 = model2.fit(X_train_telco, y_train_telco)\n",
    "y_pred = model2.predict(X_train_telco)\n",
    "y_pred_proba = model2.predict_proba(X_train_telco)\n",
    "print(f'training score: {model2.score(X_train_telco, y_train_telco):.2%}')\n",
    "print(f'validate score: {model2.score(X_validate_telco, y_validate_telco):.2%}')\n",
    "y_pred = model2.predict(X_validate_telco)\n",
    "confusion_matrix(y_validate_telco, y_pred)"
   ]
  },
  {
   "cell_type": "code",
   "execution_count": 84,
   "id": "e79e53e2",
   "metadata": {},
   "outputs": [
    {
     "name": "stdout",
     "output_type": "stream",
     "text": [
      "TPR 0.34\n",
      "FPR 0.17\n",
      "TNR 0.83\n",
      "FNR 0.66\n"
     ]
    }
   ],
   "source": [
    "TN = 861\n",
    "FP = 174\n",
    "FN = 246\n",
    "TP = 128\n",
    "# Recall or true positive rate\n",
    "TPR = TP/(TP+FN)\n",
    "# Specificity or true negative rate\n",
    "TNR = TN/(TN+FP) \n",
    "# Negative predictive value\n",
    "NPV = TN/(TN+FN)\n",
    "# Fall out or false positive rate\n",
    "FPR = FP/(FP+TN)\n",
    "# False negative rate\n",
    "FNR = FN/(TP+FN)\n",
    "\n",
    "print('TPR', round(TPR, 2))\n",
    "print('FPR', round(FPR, 2))\n",
    "print('TNR', round(TNR, 2))\n",
    "print('FNR', round(FNR, 2))"
   ]
  },
  {
   "cell_type": "code",
   "execution_count": null,
   "id": "37fdccd2",
   "metadata": {},
   "outputs": [],
   "source": []
  }
 ],
 "metadata": {
  "kernelspec": {
   "display_name": "Python 3 (ipykernel)",
   "language": "python",
   "name": "python3"
  },
  "language_info": {
   "codemirror_mode": {
    "name": "ipython",
    "version": 3
   },
   "file_extension": ".py",
   "mimetype": "text/x-python",
   "name": "python",
   "nbconvert_exporter": "python",
   "pygments_lexer": "ipython3",
   "version": "3.9.12"
  }
 },
 "nbformat": 4,
 "nbformat_minor": 5
}
